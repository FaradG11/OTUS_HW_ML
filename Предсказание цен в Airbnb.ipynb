{
 "cells": [
  {
   "cell_type": "markdown",
   "id": "854aaf7c",
   "metadata": {},
   "source": [
    "### Импорт библиотек"
   ]
  },
  {
   "cell_type": "code",
   "execution_count": 334,
   "id": "da3c6357",
   "metadata": {},
   "outputs": [],
   "source": [
    "import pandas as pd\n",
    "import numpy as np\n",
    "import seaborn as sns\n",
    "import matplotlib\n",
    "import matplotlib.pyplot as plt"
   ]
  },
  {
   "cell_type": "markdown",
   "id": "5fb92df4",
   "metadata": {},
   "source": [
    "### Импорт данных"
   ]
  },
  {
   "cell_type": "code",
   "execution_count": 335,
   "id": "8f2d249f",
   "metadata": {},
   "outputs": [],
   "source": [
    "data = pd.read_csv('AB_NYC_2019.csv')"
   ]
  },
  {
   "cell_type": "code",
   "execution_count": 336,
   "id": "e6bf452c",
   "metadata": {
    "scrolled": true
   },
   "outputs": [
    {
     "data": {
      "text/html": [
       "<div>\n",
       "<style scoped>\n",
       "    .dataframe tbody tr th:only-of-type {\n",
       "        vertical-align: middle;\n",
       "    }\n",
       "\n",
       "    .dataframe tbody tr th {\n",
       "        vertical-align: top;\n",
       "    }\n",
       "\n",
       "    .dataframe thead th {\n",
       "        text-align: right;\n",
       "    }\n",
       "</style>\n",
       "<table border=\"1\" class=\"dataframe\">\n",
       "  <thead>\n",
       "    <tr style=\"text-align: right;\">\n",
       "      <th></th>\n",
       "      <th>id</th>\n",
       "      <th>name</th>\n",
       "      <th>host_id</th>\n",
       "      <th>host_name</th>\n",
       "      <th>neighbourhood_group</th>\n",
       "      <th>neighbourhood</th>\n",
       "      <th>latitude</th>\n",
       "      <th>longitude</th>\n",
       "      <th>room_type</th>\n",
       "      <th>price</th>\n",
       "      <th>minimum_nights</th>\n",
       "      <th>number_of_reviews</th>\n",
       "      <th>last_review</th>\n",
       "      <th>reviews_per_month</th>\n",
       "      <th>calculated_host_listings_count</th>\n",
       "      <th>availability_365</th>\n",
       "    </tr>\n",
       "  </thead>\n",
       "  <tbody>\n",
       "    <tr>\n",
       "      <th>0</th>\n",
       "      <td>2539</td>\n",
       "      <td>Clean &amp; quiet apt home by the park</td>\n",
       "      <td>2787</td>\n",
       "      <td>John</td>\n",
       "      <td>Brooklyn</td>\n",
       "      <td>Kensington</td>\n",
       "      <td>40.64749</td>\n",
       "      <td>-73.97237</td>\n",
       "      <td>Private room</td>\n",
       "      <td>149</td>\n",
       "      <td>1</td>\n",
       "      <td>9</td>\n",
       "      <td>2018-10-19</td>\n",
       "      <td>0.21</td>\n",
       "      <td>6</td>\n",
       "      <td>365</td>\n",
       "    </tr>\n",
       "    <tr>\n",
       "      <th>1</th>\n",
       "      <td>2595</td>\n",
       "      <td>Skylit Midtown Castle</td>\n",
       "      <td>2845</td>\n",
       "      <td>Jennifer</td>\n",
       "      <td>Manhattan</td>\n",
       "      <td>Midtown</td>\n",
       "      <td>40.75362</td>\n",
       "      <td>-73.98377</td>\n",
       "      <td>Entire home/apt</td>\n",
       "      <td>225</td>\n",
       "      <td>1</td>\n",
       "      <td>45</td>\n",
       "      <td>2019-05-21</td>\n",
       "      <td>0.38</td>\n",
       "      <td>2</td>\n",
       "      <td>355</td>\n",
       "    </tr>\n",
       "    <tr>\n",
       "      <th>2</th>\n",
       "      <td>3647</td>\n",
       "      <td>THE VILLAGE OF HARLEM....NEW YORK !</td>\n",
       "      <td>4632</td>\n",
       "      <td>Elisabeth</td>\n",
       "      <td>Manhattan</td>\n",
       "      <td>Harlem</td>\n",
       "      <td>40.80902</td>\n",
       "      <td>-73.94190</td>\n",
       "      <td>Private room</td>\n",
       "      <td>150</td>\n",
       "      <td>3</td>\n",
       "      <td>0</td>\n",
       "      <td>NaN</td>\n",
       "      <td>NaN</td>\n",
       "      <td>1</td>\n",
       "      <td>365</td>\n",
       "    </tr>\n",
       "    <tr>\n",
       "      <th>3</th>\n",
       "      <td>3831</td>\n",
       "      <td>Cozy Entire Floor of Brownstone</td>\n",
       "      <td>4869</td>\n",
       "      <td>LisaRoxanne</td>\n",
       "      <td>Brooklyn</td>\n",
       "      <td>Clinton Hill</td>\n",
       "      <td>40.68514</td>\n",
       "      <td>-73.95976</td>\n",
       "      <td>Entire home/apt</td>\n",
       "      <td>89</td>\n",
       "      <td>1</td>\n",
       "      <td>270</td>\n",
       "      <td>2019-07-05</td>\n",
       "      <td>4.64</td>\n",
       "      <td>1</td>\n",
       "      <td>194</td>\n",
       "    </tr>\n",
       "    <tr>\n",
       "      <th>4</th>\n",
       "      <td>5022</td>\n",
       "      <td>Entire Apt: Spacious Studio/Loft by central park</td>\n",
       "      <td>7192</td>\n",
       "      <td>Laura</td>\n",
       "      <td>Manhattan</td>\n",
       "      <td>East Harlem</td>\n",
       "      <td>40.79851</td>\n",
       "      <td>-73.94399</td>\n",
       "      <td>Entire home/apt</td>\n",
       "      <td>80</td>\n",
       "      <td>10</td>\n",
       "      <td>9</td>\n",
       "      <td>2018-11-19</td>\n",
       "      <td>0.10</td>\n",
       "      <td>1</td>\n",
       "      <td>0</td>\n",
       "    </tr>\n",
       "  </tbody>\n",
       "</table>\n",
       "</div>"
      ],
      "text/plain": [
       "     id                                              name  host_id  \\\n",
       "0  2539                Clean & quiet apt home by the park     2787   \n",
       "1  2595                             Skylit Midtown Castle     2845   \n",
       "2  3647               THE VILLAGE OF HARLEM....NEW YORK !     4632   \n",
       "3  3831                   Cozy Entire Floor of Brownstone     4869   \n",
       "4  5022  Entire Apt: Spacious Studio/Loft by central park     7192   \n",
       "\n",
       "     host_name neighbourhood_group neighbourhood  latitude  longitude  \\\n",
       "0         John            Brooklyn    Kensington  40.64749  -73.97237   \n",
       "1     Jennifer           Manhattan       Midtown  40.75362  -73.98377   \n",
       "2    Elisabeth           Manhattan        Harlem  40.80902  -73.94190   \n",
       "3  LisaRoxanne            Brooklyn  Clinton Hill  40.68514  -73.95976   \n",
       "4        Laura           Manhattan   East Harlem  40.79851  -73.94399   \n",
       "\n",
       "         room_type  price  minimum_nights  number_of_reviews last_review  \\\n",
       "0     Private room    149               1                  9  2018-10-19   \n",
       "1  Entire home/apt    225               1                 45  2019-05-21   \n",
       "2     Private room    150               3                  0         NaN   \n",
       "3  Entire home/apt     89               1                270  2019-07-05   \n",
       "4  Entire home/apt     80              10                  9  2018-11-19   \n",
       "\n",
       "   reviews_per_month  calculated_host_listings_count  availability_365  \n",
       "0               0.21                               6               365  \n",
       "1               0.38                               2               355  \n",
       "2                NaN                               1               365  \n",
       "3               4.64                               1               194  \n",
       "4               0.10                               1                 0  "
      ]
     },
     "execution_count": 336,
     "metadata": {},
     "output_type": "execute_result"
    }
   ],
   "source": [
    "data.head()"
   ]
  },
  {
   "cell_type": "code",
   "execution_count": 337,
   "id": "6943f30f",
   "metadata": {},
   "outputs": [
    {
     "name": "stdout",
     "output_type": "stream",
     "text": [
      "Строк в наборе данных: 48895, столбцов 16\n"
     ]
    }
   ],
   "source": [
    "print(f'Строк в наборе данных: {data.shape[0]}, столбцов {data.shape[1]}')"
   ]
  },
  {
   "cell_type": "markdown",
   "id": "0912120c",
   "metadata": {},
   "source": [
    "### EDA"
   ]
  },
  {
   "cell_type": "code",
   "execution_count": 338,
   "id": "f330a9d4",
   "metadata": {},
   "outputs": [
    {
     "name": "stdout",
     "output_type": "stream",
     "text": [
      "<class 'pandas.core.frame.DataFrame'>\n",
      "RangeIndex: 48895 entries, 0 to 48894\n",
      "Data columns (total 16 columns):\n",
      " #   Column                          Non-Null Count  Dtype  \n",
      "---  ------                          --------------  -----  \n",
      " 0   id                              48895 non-null  int64  \n",
      " 1   name                            48879 non-null  object \n",
      " 2   host_id                         48895 non-null  int64  \n",
      " 3   host_name                       48874 non-null  object \n",
      " 4   neighbourhood_group             48895 non-null  object \n",
      " 5   neighbourhood                   48895 non-null  object \n",
      " 6   latitude                        48895 non-null  float64\n",
      " 7   longitude                       48895 non-null  float64\n",
      " 8   room_type                       48895 non-null  object \n",
      " 9   price                           48895 non-null  int64  \n",
      " 10  minimum_nights                  48895 non-null  int64  \n",
      " 11  number_of_reviews               48895 non-null  int64  \n",
      " 12  last_review                     38843 non-null  object \n",
      " 13  reviews_per_month               38843 non-null  float64\n",
      " 14  calculated_host_listings_count  48895 non-null  int64  \n",
      " 15  availability_365                48895 non-null  int64  \n",
      "dtypes: float64(3), int64(7), object(6)\n",
      "memory usage: 6.0+ MB\n"
     ]
    }
   ],
   "source": [
    "data.info()"
   ]
  },
  {
   "cell_type": "markdown",
   "id": "24075996",
   "metadata": {},
   "source": [
    "#### Уберем ненужные признаки"
   ]
  },
  {
   "cell_type": "markdown",
   "id": "be343868",
   "metadata": {},
   "source": [
    "На данном этапе нас не интересуют данные об арендадателе, арендаторе и информации о последнем ревью"
   ]
  },
  {
   "cell_type": "code",
   "execution_count": 339,
   "id": "f6a1d3c4",
   "metadata": {},
   "outputs": [],
   "source": [
    "data = data.drop(['id','name','host_id', 'host_name', 'last_review'], axis=1)"
   ]
  },
  {
   "cell_type": "markdown",
   "id": "10f6e5bf",
   "metadata": {},
   "source": [
    "#### Выведем количество нулевых значений по каждому столбцу"
   ]
  },
  {
   "cell_type": "code",
   "execution_count": 340,
   "id": "60959aee",
   "metadata": {
    "scrolled": true
   },
   "outputs": [
    {
     "data": {
      "text/plain": [
       "neighbourhood_group                   0\n",
       "neighbourhood                         0\n",
       "latitude                              0\n",
       "longitude                             0\n",
       "room_type                             0\n",
       "price                                 0\n",
       "minimum_nights                        0\n",
       "number_of_reviews                     0\n",
       "reviews_per_month                 10052\n",
       "calculated_host_listings_count        0\n",
       "availability_365                      0\n",
       "dtype: int64"
      ]
     },
     "execution_count": 340,
     "metadata": {},
     "output_type": "execute_result"
    }
   ],
   "source": [
    "data.isnull().sum()"
   ]
  },
  {
   "cell_type": "markdown",
   "id": "abc002d9",
   "metadata": {},
   "source": [
    "Ниже вы можете увидеть, что у признака reviews_per_month нет значений, только в том случае, когда у объекта вовсе нет отзывов(number_of_reviews=0)."
   ]
  },
  {
   "cell_type": "code",
   "execution_count": 341,
   "id": "8902635d",
   "metadata": {
    "scrolled": true
   },
   "outputs": [
    {
     "data": {
      "text/plain": [
       "count    10052.0\n",
       "mean         0.0\n",
       "std          0.0\n",
       "min          0.0\n",
       "25%          0.0\n",
       "50%          0.0\n",
       "75%          0.0\n",
       "max          0.0\n",
       "Name: number_of_reviews, dtype: float64"
      ]
     },
     "execution_count": 341,
     "metadata": {},
     "output_type": "execute_result"
    }
   ],
   "source": [
    "data[data['reviews_per_month'].isnull()]['number_of_reviews'].describe()"
   ]
  },
  {
   "cell_type": "markdown",
   "id": "bfc8bfa3",
   "metadata": {},
   "source": [
    "Заполним пропущенные значения переменных в этой колонке значением, равным нулю"
   ]
  },
  {
   "cell_type": "code",
   "execution_count": 342,
   "id": "44e4c528",
   "metadata": {},
   "outputs": [],
   "source": [
    "data.fillna({'reviews_per_month':0}, inplace=True)"
   ]
  },
  {
   "cell_type": "markdown",
   "id": "d502c491",
   "metadata": {},
   "source": [
    "Заново проверим количество пропущенных значений у этого признака:"
   ]
  },
  {
   "cell_type": "code",
   "execution_count": 343,
   "id": "59a442a6",
   "metadata": {},
   "outputs": [
    {
     "data": {
      "text/plain": [
       "0"
      ]
     },
     "execution_count": 343,
     "metadata": {},
     "output_type": "execute_result"
    }
   ],
   "source": [
    "data.reviews_per_month.isnull().sum()"
   ]
  },
  {
   "cell_type": "markdown",
   "id": "32b9f382",
   "metadata": {},
   "source": [
    "Посмотрим на основные характеристики числовых признаков:"
   ]
  },
  {
   "cell_type": "code",
   "execution_count": 344,
   "id": "6ff4ab1d",
   "metadata": {},
   "outputs": [
    {
     "data": {
      "text/html": [
       "<div>\n",
       "<style scoped>\n",
       "    .dataframe tbody tr th:only-of-type {\n",
       "        vertical-align: middle;\n",
       "    }\n",
       "\n",
       "    .dataframe tbody tr th {\n",
       "        vertical-align: top;\n",
       "    }\n",
       "\n",
       "    .dataframe thead th {\n",
       "        text-align: right;\n",
       "    }\n",
       "</style>\n",
       "<table border=\"1\" class=\"dataframe\">\n",
       "  <thead>\n",
       "    <tr style=\"text-align: right;\">\n",
       "      <th></th>\n",
       "      <th>latitude</th>\n",
       "      <th>longitude</th>\n",
       "      <th>price</th>\n",
       "      <th>minimum_nights</th>\n",
       "      <th>number_of_reviews</th>\n",
       "      <th>reviews_per_month</th>\n",
       "      <th>calculated_host_listings_count</th>\n",
       "      <th>availability_365</th>\n",
       "    </tr>\n",
       "  </thead>\n",
       "  <tbody>\n",
       "    <tr>\n",
       "      <th>count</th>\n",
       "      <td>48895.000000</td>\n",
       "      <td>48895.000000</td>\n",
       "      <td>48895.000000</td>\n",
       "      <td>48895.000000</td>\n",
       "      <td>48895.000000</td>\n",
       "      <td>48895.000000</td>\n",
       "      <td>48895.000000</td>\n",
       "      <td>48895.000000</td>\n",
       "    </tr>\n",
       "    <tr>\n",
       "      <th>mean</th>\n",
       "      <td>40.728949</td>\n",
       "      <td>-73.952170</td>\n",
       "      <td>152.720687</td>\n",
       "      <td>7.029962</td>\n",
       "      <td>23.274466</td>\n",
       "      <td>1.090910</td>\n",
       "      <td>7.143982</td>\n",
       "      <td>112.781327</td>\n",
       "    </tr>\n",
       "    <tr>\n",
       "      <th>std</th>\n",
       "      <td>0.054530</td>\n",
       "      <td>0.046157</td>\n",
       "      <td>240.154170</td>\n",
       "      <td>20.510550</td>\n",
       "      <td>44.550582</td>\n",
       "      <td>1.597283</td>\n",
       "      <td>32.952519</td>\n",
       "      <td>131.622289</td>\n",
       "    </tr>\n",
       "    <tr>\n",
       "      <th>min</th>\n",
       "      <td>40.499790</td>\n",
       "      <td>-74.244420</td>\n",
       "      <td>0.000000</td>\n",
       "      <td>1.000000</td>\n",
       "      <td>0.000000</td>\n",
       "      <td>0.000000</td>\n",
       "      <td>1.000000</td>\n",
       "      <td>0.000000</td>\n",
       "    </tr>\n",
       "    <tr>\n",
       "      <th>25%</th>\n",
       "      <td>40.690100</td>\n",
       "      <td>-73.983070</td>\n",
       "      <td>69.000000</td>\n",
       "      <td>1.000000</td>\n",
       "      <td>1.000000</td>\n",
       "      <td>0.040000</td>\n",
       "      <td>1.000000</td>\n",
       "      <td>0.000000</td>\n",
       "    </tr>\n",
       "    <tr>\n",
       "      <th>50%</th>\n",
       "      <td>40.723070</td>\n",
       "      <td>-73.955680</td>\n",
       "      <td>106.000000</td>\n",
       "      <td>3.000000</td>\n",
       "      <td>5.000000</td>\n",
       "      <td>0.370000</td>\n",
       "      <td>1.000000</td>\n",
       "      <td>45.000000</td>\n",
       "    </tr>\n",
       "    <tr>\n",
       "      <th>75%</th>\n",
       "      <td>40.763115</td>\n",
       "      <td>-73.936275</td>\n",
       "      <td>175.000000</td>\n",
       "      <td>5.000000</td>\n",
       "      <td>24.000000</td>\n",
       "      <td>1.580000</td>\n",
       "      <td>2.000000</td>\n",
       "      <td>227.000000</td>\n",
       "    </tr>\n",
       "    <tr>\n",
       "      <th>max</th>\n",
       "      <td>40.913060</td>\n",
       "      <td>-73.712990</td>\n",
       "      <td>10000.000000</td>\n",
       "      <td>1250.000000</td>\n",
       "      <td>629.000000</td>\n",
       "      <td>58.500000</td>\n",
       "      <td>327.000000</td>\n",
       "      <td>365.000000</td>\n",
       "    </tr>\n",
       "  </tbody>\n",
       "</table>\n",
       "</div>"
      ],
      "text/plain": [
       "           latitude     longitude         price  minimum_nights  \\\n",
       "count  48895.000000  48895.000000  48895.000000    48895.000000   \n",
       "mean      40.728949    -73.952170    152.720687        7.029962   \n",
       "std        0.054530      0.046157    240.154170       20.510550   \n",
       "min       40.499790    -74.244420      0.000000        1.000000   \n",
       "25%       40.690100    -73.983070     69.000000        1.000000   \n",
       "50%       40.723070    -73.955680    106.000000        3.000000   \n",
       "75%       40.763115    -73.936275    175.000000        5.000000   \n",
       "max       40.913060    -73.712990  10000.000000     1250.000000   \n",
       "\n",
       "       number_of_reviews  reviews_per_month  calculated_host_listings_count  \\\n",
       "count       48895.000000       48895.000000                    48895.000000   \n",
       "mean           23.274466           1.090910                        7.143982   \n",
       "std            44.550582           1.597283                       32.952519   \n",
       "min             0.000000           0.000000                        1.000000   \n",
       "25%             1.000000           0.040000                        1.000000   \n",
       "50%             5.000000           0.370000                        1.000000   \n",
       "75%            24.000000           1.580000                        2.000000   \n",
       "max           629.000000          58.500000                      327.000000   \n",
       "\n",
       "       availability_365  \n",
       "count      48895.000000  \n",
       "mean         112.781327  \n",
       "std          131.622289  \n",
       "min            0.000000  \n",
       "25%            0.000000  \n",
       "50%           45.000000  \n",
       "75%          227.000000  \n",
       "max          365.000000  "
      ]
     },
     "execution_count": 344,
     "metadata": {},
     "output_type": "execute_result"
    }
   ],
   "source": [
    "data.describe()"
   ]
  },
  {
   "cell_type": "code",
   "execution_count": 345,
   "id": "ec39cc8f",
   "metadata": {
    "scrolled": true
   },
   "outputs": [
    {
     "data": {
      "text/plain": [
       "<AxesSubplot:xlabel='price', ylabel='Count'>"
      ]
     },
     "execution_count": 345,
     "metadata": {},
     "output_type": "execute_result"
    },
    {
     "data": {
      "image/png": "[encoded data removed]",
      "text/plain": [
       "<Figure size 432x288 with 1 Axes>"
      ]
     },
     "metadata": {
      "needs_background": "light"
     },
     "output_type": "display_data"
    }
   ],
   "source": [
    "sns.histplot(data['price'], bins=25)"
   ]
  },
  {
   "cell_type": "markdown",
   "id": "d337271f",
   "metadata": {},
   "source": [
    "Мы видим выбросы значений у целевой переменной. Очистим стрики с ними:"
   ]
  },
  {
   "cell_type": "code",
   "execution_count": 346,
   "id": "0a53680e",
   "metadata": {
    "scrolled": true
   },
   "outputs": [
    {
     "name": "stdout",
     "output_type": "stream",
     "text": [
      "       latitude  longitude  price  minimum_nights  number_of_reviews  \\\n",
      "0.05  40.646114 -74.003880   40.0             1.0                0.0   \n",
      "0.95  40.825643 -73.865771  355.0            30.0              114.0   \n",
      "\n",
      "      reviews_per_month  calculated_host_listings_count  availability_365  \n",
      "0.05               0.00                             1.0               0.0  \n",
      "0.95               4.31                            15.0             359.0  \n"
     ]
    }
   ],
   "source": [
    "low = .05\n",
    "high = .95\n",
    "quant = data.quantile([low, high])\n",
    "print(quant)"
   ]
  },
  {
   "cell_type": "code",
   "execution_count": 347,
   "id": "d5e377aa",
   "metadata": {},
   "outputs": [
    {
     "data": {
      "text/plain": [
       "(44412, 11)"
      ]
     },
     "execution_count": 347,
     "metadata": {},
     "output_type": "execute_result"
    }
   ],
   "source": [
    "data = data[data.price.between(quant.loc[low, 'price'], quant.loc[high, 'price'])]\n",
    "data.shape"
   ]
  },
  {
   "cell_type": "code",
   "execution_count": 348,
   "id": "0b9db5aa",
   "metadata": {
    "scrolled": true
   },
   "outputs": [
    {
     "data": {
      "text/html": [
       "<div>\n",
       "<style scoped>\n",
       "    .dataframe tbody tr th:only-of-type {\n",
       "        vertical-align: middle;\n",
       "    }\n",
       "\n",
       "    .dataframe tbody tr th {\n",
       "        vertical-align: top;\n",
       "    }\n",
       "\n",
       "    .dataframe thead th {\n",
       "        text-align: right;\n",
       "    }\n",
       "</style>\n",
       "<table border=\"1\" class=\"dataframe\">\n",
       "  <thead>\n",
       "    <tr style=\"text-align: right;\">\n",
       "      <th></th>\n",
       "      <th>latitude</th>\n",
       "      <th>longitude</th>\n",
       "      <th>price</th>\n",
       "      <th>minimum_nights</th>\n",
       "      <th>number_of_reviews</th>\n",
       "      <th>reviews_per_month</th>\n",
       "      <th>calculated_host_listings_count</th>\n",
       "      <th>availability_365</th>\n",
       "    </tr>\n",
       "  </thead>\n",
       "  <tbody>\n",
       "    <tr>\n",
       "      <th>count</th>\n",
       "      <td>44412.000000</td>\n",
       "      <td>44412.000000</td>\n",
       "      <td>44412.000000</td>\n",
       "      <td>44412.000000</td>\n",
       "      <td>44412.000000</td>\n",
       "      <td>44412.000000</td>\n",
       "      <td>44412.000000</td>\n",
       "      <td>44412.000000</td>\n",
       "    </tr>\n",
       "    <tr>\n",
       "      <th>mean</th>\n",
       "      <td>40.729198</td>\n",
       "      <td>-73.952173</td>\n",
       "      <td>126.721066</td>\n",
       "      <td>6.847947</td>\n",
       "      <td>24.100603</td>\n",
       "      <td>1.108867</td>\n",
       "      <td>6.692020</td>\n",
       "      <td>109.308002</td>\n",
       "    </tr>\n",
       "    <tr>\n",
       "      <th>std</th>\n",
       "      <td>0.054349</td>\n",
       "      <td>0.045547</td>\n",
       "      <td>70.919013</td>\n",
       "      <td>20.017732</td>\n",
       "      <td>45.499870</td>\n",
       "      <td>1.611001</td>\n",
       "      <td>31.654081</td>\n",
       "      <td>130.085501</td>\n",
       "    </tr>\n",
       "    <tr>\n",
       "      <th>min</th>\n",
       "      <td>40.499790</td>\n",
       "      <td>-74.244420</td>\n",
       "      <td>40.000000</td>\n",
       "      <td>1.000000</td>\n",
       "      <td>0.000000</td>\n",
       "      <td>0.000000</td>\n",
       "      <td>1.000000</td>\n",
       "      <td>0.000000</td>\n",
       "    </tr>\n",
       "    <tr>\n",
       "      <th>25%</th>\n",
       "      <td>40.690190</td>\n",
       "      <td>-73.982640</td>\n",
       "      <td>70.000000</td>\n",
       "      <td>1.000000</td>\n",
       "      <td>1.000000</td>\n",
       "      <td>0.050000</td>\n",
       "      <td>1.000000</td>\n",
       "      <td>0.000000</td>\n",
       "    </tr>\n",
       "    <tr>\n",
       "      <th>50%</th>\n",
       "      <td>40.722820</td>\n",
       "      <td>-73.955400</td>\n",
       "      <td>105.000000</td>\n",
       "      <td>2.000000</td>\n",
       "      <td>6.000000</td>\n",
       "      <td>0.390000</td>\n",
       "      <td>1.000000</td>\n",
       "      <td>40.000000</td>\n",
       "    </tr>\n",
       "    <tr>\n",
       "      <th>75%</th>\n",
       "      <td>40.763562</td>\n",
       "      <td>-73.936988</td>\n",
       "      <td>165.000000</td>\n",
       "      <td>5.000000</td>\n",
       "      <td>25.000000</td>\n",
       "      <td>1.620000</td>\n",
       "      <td>2.000000</td>\n",
       "      <td>216.000000</td>\n",
       "    </tr>\n",
       "    <tr>\n",
       "      <th>max</th>\n",
       "      <td>40.913060</td>\n",
       "      <td>-73.712990</td>\n",
       "      <td>355.000000</td>\n",
       "      <td>1250.000000</td>\n",
       "      <td>629.000000</td>\n",
       "      <td>58.500000</td>\n",
       "      <td>327.000000</td>\n",
       "      <td>365.000000</td>\n",
       "    </tr>\n",
       "  </tbody>\n",
       "</table>\n",
       "</div>"
      ],
      "text/plain": [
       "           latitude     longitude         price  minimum_nights  \\\n",
       "count  44412.000000  44412.000000  44412.000000    44412.000000   \n",
       "mean      40.729198    -73.952173    126.721066        6.847947   \n",
       "std        0.054349      0.045547     70.919013       20.017732   \n",
       "min       40.499790    -74.244420     40.000000        1.000000   \n",
       "25%       40.690190    -73.982640     70.000000        1.000000   \n",
       "50%       40.722820    -73.955400    105.000000        2.000000   \n",
       "75%       40.763562    -73.936988    165.000000        5.000000   \n",
       "max       40.913060    -73.712990    355.000000     1250.000000   \n",
       "\n",
       "       number_of_reviews  reviews_per_month  calculated_host_listings_count  \\\n",
       "count       44412.000000       44412.000000                    44412.000000   \n",
       "mean           24.100603           1.108867                        6.692020   \n",
       "std            45.499870           1.611001                       31.654081   \n",
       "min             0.000000           0.000000                        1.000000   \n",
       "25%             1.000000           0.050000                        1.000000   \n",
       "50%             6.000000           0.390000                        1.000000   \n",
       "75%            25.000000           1.620000                        2.000000   \n",
       "max           629.000000          58.500000                      327.000000   \n",
       "\n",
       "       availability_365  \n",
       "count      44412.000000  \n",
       "mean         109.308002  \n",
       "std          130.085501  \n",
       "min            0.000000  \n",
       "25%            0.000000  \n",
       "50%           40.000000  \n",
       "75%          216.000000  \n",
       "max          365.000000  "
      ]
     },
     "execution_count": 348,
     "metadata": {},
     "output_type": "execute_result"
    }
   ],
   "source": [
    "data.describe()"
   ]
  },
  {
   "cell_type": "code",
   "execution_count": 349,
   "id": "2410a892",
   "metadata": {
    "scrolled": true
   },
   "outputs": [
    {
     "data": {
      "text/plain": [
       "<AxesSubplot:xlabel='price', ylabel='Count'>"
      ]
     },
     "execution_count": 349,
     "metadata": {},
     "output_type": "execute_result"
    },
    {
     "data": {
      "image/png": "[encoded data removed]",
      "text/plain": [
       "<Figure size 432x288 with 1 Axes>"
      ]
     },
     "metadata": {
      "needs_background": "light"
     },
     "output_type": "display_data"
    }
   ],
   "source": [
    "sns.histplot(data['price'], bins=25)"
   ]
  },
  {
   "cell_type": "markdown",
   "id": "e3a47826",
   "metadata": {},
   "source": [
    "Посмотрим в каких районах цены на аренду недвижимости выше:"
   ]
  },
  {
   "cell_type": "code",
   "execution_count": 350,
   "id": "ad3db857",
   "metadata": {},
   "outputs": [],
   "source": [
    "districts = data.groupby(['neighbourhood_group'])['price'].mean()"
   ]
  },
  {
   "cell_type": "code",
   "execution_count": 351,
   "id": "339cead9",
   "metadata": {
    "scrolled": true
   },
   "outputs": [
    {
     "data": {
      "text/plain": [
       "<BarContainer object of 5 artists>"
      ]
     },
     "execution_count": 351,
     "metadata": {},
     "output_type": "execute_result"
    },
    {
     "data": {
      "image/png": "[encoded data removed]",
      "text/plain": [
       "<Figure size 432x288 with 1 Axes>"
      ]
     },
     "metadata": {
      "needs_background": "light"
     },
     "output_type": "display_data"
    }
   ],
   "source": [
    "plt.bar(districts.index, districts.values)"
   ]
  },
  {
   "cell_type": "code",
   "execution_count": 352,
   "id": "e6b1492d",
   "metadata": {},
   "outputs": [
    {
     "data": {
      "image/png": "[encoded data removed]",
      "text/plain": [
       "<Figure size 1296x1080 with 2 Axes>"
      ]
     },
     "metadata": {
      "needs_background": "light"
     },
     "output_type": "display_data"
    }
   ],
   "source": [
    "plt.subplots(figsize=(18,15))\n",
    "sns.heatmap(data.corr(), cmap=sns.color_palette(\"coolwarm\", 10000), annot=True, vmin=-1, center=0)\n",
    "plt.show()"
   ]
  },
  {
   "cell_type": "markdown",
   "id": "dc4a65f5",
   "metadata": {},
   "source": [
    "### Feature engineering"
   ]
  },
  {
   "cell_type": "markdown",
   "id": "92d56e91",
   "metadata": {},
   "source": [
    "Признаки **neighbourhood_group** и **room_type** перекодируем при помощи dummy encoding"
   ]
  },
  {
   "cell_type": "code",
   "execution_count": 353,
   "id": "8923c058",
   "metadata": {},
   "outputs": [],
   "source": [
    "data_1 = data.copy()\n",
    "data_1 = pd.get_dummies(data_1, columns=['room_type', 'neighbourhood_group'], drop_first=True)"
   ]
  },
  {
   "cell_type": "markdown",
   "id": "8ae71ed8",
   "metadata": {},
   "source": [
    "Закодируем значение признака **neighbourhood**. В качестве значения признака возьмем среднее значение целевой переменной."
   ]
  },
  {
   "cell_type": "code",
   "execution_count": 354,
   "id": "44a44b5f",
   "metadata": {
    "scrolled": false
   },
   "outputs": [
    {
     "data": {
      "text/html": [
       "<div>\n",
       "<style scoped>\n",
       "    .dataframe tbody tr th:only-of-type {\n",
       "        vertical-align: middle;\n",
       "    }\n",
       "\n",
       "    .dataframe tbody tr th {\n",
       "        vertical-align: top;\n",
       "    }\n",
       "\n",
       "    .dataframe thead th {\n",
       "        text-align: right;\n",
       "    }\n",
       "</style>\n",
       "<table border=\"1\" class=\"dataframe\">\n",
       "  <thead>\n",
       "    <tr style=\"text-align: right;\">\n",
       "      <th></th>\n",
       "      <th>latitude</th>\n",
       "      <th>longitude</th>\n",
       "      <th>price</th>\n",
       "      <th>minimum_nights</th>\n",
       "      <th>number_of_reviews</th>\n",
       "      <th>reviews_per_month</th>\n",
       "      <th>calculated_host_listings_count</th>\n",
       "      <th>availability_365</th>\n",
       "      <th>room_type_Private room</th>\n",
       "      <th>room_type_Shared room</th>\n",
       "      <th>neighbourhood_group_Brooklyn</th>\n",
       "      <th>neighbourhood_group_Manhattan</th>\n",
       "      <th>neighbourhood_group_Queens</th>\n",
       "      <th>neighbourhood_group_Staten Island</th>\n",
       "      <th>neighbourhood_m_enc</th>\n",
       "    </tr>\n",
       "  </thead>\n",
       "  <tbody>\n",
       "    <tr>\n",
       "      <th>0</th>\n",
       "      <td>40.64749</td>\n",
       "      <td>-73.97237</td>\n",
       "      <td>149</td>\n",
       "      <td>1</td>\n",
       "      <td>9</td>\n",
       "      <td>0.21</td>\n",
       "      <td>6</td>\n",
       "      <td>365</td>\n",
       "      <td>1</td>\n",
       "      <td>0</td>\n",
       "      <td>1</td>\n",
       "      <td>0</td>\n",
       "      <td>0</td>\n",
       "      <td>0</td>\n",
       "      <td>91.980645</td>\n",
       "    </tr>\n",
       "    <tr>\n",
       "      <th>1</th>\n",
       "      <td>40.75362</td>\n",
       "      <td>-73.98377</td>\n",
       "      <td>225</td>\n",
       "      <td>1</td>\n",
       "      <td>45</td>\n",
       "      <td>0.38</td>\n",
       "      <td>2</td>\n",
       "      <td>355</td>\n",
       "      <td>0</td>\n",
       "      <td>0</td>\n",
       "      <td>0</td>\n",
       "      <td>1</td>\n",
       "      <td>0</td>\n",
       "      <td>0</td>\n",
       "      <td>190.532618</td>\n",
       "    </tr>\n",
       "    <tr>\n",
       "      <th>2</th>\n",
       "      <td>40.80902</td>\n",
       "      <td>-73.94190</td>\n",
       "      <td>150</td>\n",
       "      <td>3</td>\n",
       "      <td>0</td>\n",
       "      <td>0.00</td>\n",
       "      <td>1</td>\n",
       "      <td>365</td>\n",
       "      <td>1</td>\n",
       "      <td>0</td>\n",
       "      <td>0</td>\n",
       "      <td>1</td>\n",
       "      <td>0</td>\n",
       "      <td>0</td>\n",
       "      <td>107.511933</td>\n",
       "    </tr>\n",
       "    <tr>\n",
       "      <th>3</th>\n",
       "      <td>40.68514</td>\n",
       "      <td>-73.95976</td>\n",
       "      <td>89</td>\n",
       "      <td>1</td>\n",
       "      <td>270</td>\n",
       "      <td>4.64</td>\n",
       "      <td>1</td>\n",
       "      <td>194</td>\n",
       "      <td>0</td>\n",
       "      <td>0</td>\n",
       "      <td>1</td>\n",
       "      <td>0</td>\n",
       "      <td>0</td>\n",
       "      <td>0</td>\n",
       "      <td>128.680970</td>\n",
       "    </tr>\n",
       "    <tr>\n",
       "      <th>4</th>\n",
       "      <td>40.79851</td>\n",
       "      <td>-73.94399</td>\n",
       "      <td>80</td>\n",
       "      <td>10</td>\n",
       "      <td>9</td>\n",
       "      <td>0.10</td>\n",
       "      <td>1</td>\n",
       "      <td>0</td>\n",
       "      <td>0</td>\n",
       "      <td>0</td>\n",
       "      <td>0</td>\n",
       "      <td>1</td>\n",
       "      <td>0</td>\n",
       "      <td>0</td>\n",
       "      <td>115.956279</td>\n",
       "    </tr>\n",
       "  </tbody>\n",
       "</table>\n",
       "</div>"
      ],
      "text/plain": [
       "   latitude  longitude  price  minimum_nights  number_of_reviews  \\\n",
       "0  40.64749  -73.97237    149               1                  9   \n",
       "1  40.75362  -73.98377    225               1                 45   \n",
       "2  40.80902  -73.94190    150               3                  0   \n",
       "3  40.68514  -73.95976     89               1                270   \n",
       "4  40.79851  -73.94399     80              10                  9   \n",
       "\n",
       "   reviews_per_month  calculated_host_listings_count  availability_365  \\\n",
       "0               0.21                               6               365   \n",
       "1               0.38                               2               355   \n",
       "2               0.00                               1               365   \n",
       "3               4.64                               1               194   \n",
       "4               0.10                               1                 0   \n",
       "\n",
       "   room_type_Private room  room_type_Shared room  \\\n",
       "0                       1                      0   \n",
       "1                       0                      0   \n",
       "2                       1                      0   \n",
       "3                       0                      0   \n",
       "4                       0                      0   \n",
       "\n",
       "   neighbourhood_group_Brooklyn  neighbourhood_group_Manhattan  \\\n",
       "0                             1                              0   \n",
       "1                             0                              1   \n",
       "2                             0                              1   \n",
       "3                             1                              0   \n",
       "4                             0                              1   \n",
       "\n",
       "   neighbourhood_group_Queens  neighbourhood_group_Staten Island  \\\n",
       "0                           0                                  0   \n",
       "1                           0                                  0   \n",
       "2                           0                                  0   \n",
       "3                           0                                  0   \n",
       "4                           0                                  0   \n",
       "\n",
       "   neighbourhood_m_enc  \n",
       "0            91.980645  \n",
       "1           190.532618  \n",
       "2           107.511933  \n",
       "3           128.680970  \n",
       "4           115.956279  "
      ]
     },
     "execution_count": 354,
     "metadata": {},
     "output_type": "execute_result"
    }
   ],
   "source": [
    "def mean_target_encoding(df, target, column):\n",
    "    mean_enc = df.groupby(column)[target].mean()\n",
    "    df[column+'_m_enc'] = df[column].map(mean_enc)\n",
    "    return (df)\n",
    "\n",
    "data_1 = mean_target_encoding(data_1, 'price', 'neighbourhood')\n",
    "data_1.drop(columns = ['neighbourhood'], axis =1, inplace=True)\n",
    "data_1.head()"
   ]
  },
  {
   "cell_type": "markdown",
   "id": "bcb5c059",
   "metadata": {},
   "source": [
    "### Построим базовую модель:"
   ]
  },
  {
   "cell_type": "code",
   "execution_count": 355,
   "id": "38b126e0",
   "metadata": {},
   "outputs": [],
   "source": [
    "from sklearn.linear_model import LinearRegression, Ridge, Lasso, ElasticNetCV\n",
    "from sklearn.model_selection import train_test_split\n",
    "from sklearn.preprocessing import StandardScaler\n",
    "from sklearn.pipeline import Pipeline\n",
    "from sklearn.metrics import r2_score, mean_squared_error, mean_absolute_error\n",
    "\n",
    "def rmse(y_hat, y):\n",
    "    return np.sqrt(mean_squared_error(y_hat, y))"
   ]
  },
  {
   "cell_type": "markdown",
   "id": "a497a4bf",
   "metadata": {},
   "source": [
    "Разделим целевую переменную и признаки:"
   ]
  },
  {
   "cell_type": "code",
   "execution_count": 356,
   "id": "72c5ab61",
   "metadata": {},
   "outputs": [],
   "source": [
    "target_base = data_1.price\n",
    "features_base = data_1.drop('price', axis=1)"
   ]
  },
  {
   "cell_type": "markdown",
   "id": "a0b5fbd4",
   "metadata": {},
   "source": [
    "Разделим выборку на train и test:"
   ]
  },
  {
   "cell_type": "code",
   "execution_count": 357,
   "id": "aa19df1f",
   "metadata": {},
   "outputs": [
    {
     "data": {
      "text/plain": [
       "((31088, 14), (13324, 14), (31088,), (13324,))"
      ]
     },
     "execution_count": 357,
     "metadata": {},
     "output_type": "execute_result"
    }
   ],
   "source": [
    "X_train, X_test, y_train, y_test = train_test_split(\n",
    "    features_base, target_base, test_size=0.30, random_state=118\n",
    ")\n",
    "X_train.shape, X_test.shape, y_train.shape, y_test.shape"
   ]
  },
  {
   "cell_type": "code",
   "execution_count": 358,
   "id": "9c36f76f",
   "metadata": {},
   "outputs": [
    {
     "data": {
      "text/html": [
       "<div>\n",
       "<style scoped>\n",
       "    .dataframe tbody tr th:only-of-type {\n",
       "        vertical-align: middle;\n",
       "    }\n",
       "\n",
       "    .dataframe tbody tr th {\n",
       "        vertical-align: top;\n",
       "    }\n",
       "\n",
       "    .dataframe thead th {\n",
       "        text-align: right;\n",
       "    }\n",
       "</style>\n",
       "<table border=\"1\" class=\"dataframe\">\n",
       "  <thead>\n",
       "    <tr style=\"text-align: right;\">\n",
       "      <th></th>\n",
       "      <th>R2</th>\n",
       "      <th>MAE</th>\n",
       "      <th>RMSE</th>\n",
       "    </tr>\n",
       "  </thead>\n",
       "  <tbody>\n",
       "    <tr>\n",
       "      <th>Linear</th>\n",
       "      <td>0.478462</td>\n",
       "      <td>37.173400</td>\n",
       "      <td>51.467972</td>\n",
       "    </tr>\n",
       "    <tr>\n",
       "      <th>Ridge</th>\n",
       "      <td>0.478463</td>\n",
       "      <td>37.173321</td>\n",
       "      <td>51.467922</td>\n",
       "    </tr>\n",
       "    <tr>\n",
       "      <th>Lasso</th>\n",
       "      <td>0.477138</td>\n",
       "      <td>37.241102</td>\n",
       "      <td>51.533237</td>\n",
       "    </tr>\n",
       "    <tr>\n",
       "      <th>ElasticNetCV</th>\n",
       "      <td>0.478237</td>\n",
       "      <td>37.178612</td>\n",
       "      <td>51.479057</td>\n",
       "    </tr>\n",
       "  </tbody>\n",
       "</table>\n",
       "</div>"
      ],
      "text/plain": [
       "                    R2        MAE       RMSE\n",
       "Linear        0.478462  37.173400  51.467972\n",
       "Ridge         0.478463  37.173321  51.467922\n",
       "Lasso         0.477138  37.241102  51.533237\n",
       "ElasticNetCV  0.478237  37.178612  51.479057"
      ]
     },
     "execution_count": 358,
     "metadata": {},
     "output_type": "execute_result"
    }
   ],
   "source": [
    "pipe_lr = Pipeline([('scaler', StandardScaler()), ('linear', LinearRegression())])\n",
    "pipe_ridge = Pipeline([('scaler', StandardScaler()), ('ridge', Ridge())])\n",
    "pipe_lasso = Pipeline([('scaler', StandardScaler()), ('lasso', Lasso())])\n",
    "pipe_elastic = Pipeline([('scaler', StandardScaler()), ('elasticnetCV', ElasticNetCV())])\n",
    "\n",
    "pipe_lr.fit(X_train, y_train)\n",
    "preds_lr = pipe_lr.predict(X_test)\n",
    "\n",
    "pipe_ridge.fit(X_train, y_train)\n",
    "preds_ridge = pipe_ridge.predict(X_test)\n",
    "\n",
    "pipe_lasso.fit(X_train, y_train)\n",
    "preds_lasso = pipe_lasso.predict(X_test)\n",
    "\n",
    "pipe_elastic.fit(X_train, y_train)\n",
    "preds_elast = pipe_elastic.predict(X_test)\n",
    "\n",
    "\n",
    "\n",
    "results0 = {'R2':[], 'MAE': [], 'RMSE': []}\n",
    "for preds in [preds_lr, preds_ridge, preds_lasso, preds_elast]:\n",
    "    results0['R2'].append(r2_score(y_test, preds))\n",
    "    results0['MAE'].append(mean_absolute_error(y_test, preds))\n",
    "    results0['RMSE'].append(rmse(y_test, preds))\n",
    "\n",
    "res = pd.DataFrame(results0, index = ['Linear', 'Ridge', 'Lasso', 'ElasticNetCV'])\n",
    "res"
   ]
  },
  {
   "cell_type": "markdown",
   "id": "7b7d810b",
   "metadata": {},
   "source": [
    "### Попробуем улучшить модель"
   ]
  },
  {
   "cell_type": "markdown",
   "id": "c522d644",
   "metadata": {},
   "source": [
    "#### Шаг 1"
   ]
  },
  {
   "cell_type": "markdown",
   "id": "4ed19f9a",
   "metadata": {},
   "source": [
    "Посмотрим распределение объектов по группам признаков района и типа проживания:"
   ]
  },
  {
   "cell_type": "code",
   "execution_count": 359,
   "id": "0b5b632d",
   "metadata": {},
   "outputs": [
    {
     "data": {
      "text/plain": [
       "neighbourhood_group  room_type      \n",
       "Manhattan            Entire home/apt    11604\n",
       "Brooklyn             Private room        9259\n",
       "                     Entire home/apt     9062\n",
       "Manhattan            Private room        7595\n",
       "Queens               Private room        2985\n",
       "                     Entire home/apt     2027\n",
       "Bronx                Private room         524\n",
       "Manhattan            Shared room          396\n",
       "Bronx                Entire home/apt      362\n",
       "Staten Island        Entire home/apt      168\n",
       "Brooklyn             Shared room          167\n",
       "Staten Island        Private room         144\n",
       "Queens               Shared room           85\n",
       "Bronx                Shared room           30\n",
       "Staten Island        Shared room            4\n",
       "Name: price, dtype: int64"
      ]
     },
     "execution_count": 359,
     "metadata": {},
     "output_type": "execute_result"
    }
   ],
   "source": [
    "sub1 = data.groupby(['neighbourhood_group','room_type'])['price'].count()\n",
    "sub1 = sub1.sort_values(ascending=False)\n",
    "sub1"
   ]
  },
  {
   "cell_type": "markdown",
   "id": "70e58dc6",
   "metadata": {},
   "source": [
    "Мы понимает что зависимость от минимального срока проживания не линейная. Разделим на 5 групп по срокам сдачи недвижимости:\n",
    "\n",
    "    - суточно (Daily)    \n",
    "    - на короткий срок (Short)\n",
    "    - от недели (Week)\n",
    "    - от месяца (Monthly)\n",
    "    - долгосрочно (Long)\n",
    "    "
   ]
  },
  {
   "cell_type": "code",
   "execution_count": 360,
   "id": "d9dd43ea",
   "metadata": {},
   "outputs": [
    {
     "data": {
      "text/plain": [
       "[<matplotlib.lines.Line2D at 0x18686c724c0>]"
      ]
     },
     "execution_count": 360,
     "metadata": {},
     "output_type": "execute_result"
    },
    {
     "data": {
      "image/png": "[encoded data removed]",
      "text/plain": [
       "<Figure size 432x288 with 1 Axes>"
      ]
     },
     "metadata": {
      "needs_background": "light"
     },
     "output_type": "display_data"
    }
   ],
   "source": [
    "plt.plot(data.groupby(['minimum_nights'])['price'].mean())"
   ]
  },
  {
   "cell_type": "code",
   "execution_count": 361,
   "id": "315fad47",
   "metadata": {},
   "outputs": [
    {
     "data": {
      "image/png": "[encoded data removed]",
      "text/plain": [
       "<Figure size 1080x1440 with 5 Axes>"
      ]
     },
     "metadata": {
      "needs_background": "light"
     },
     "output_type": "display_data"
    }
   ],
   "source": [
    "data2 = data.copy()\n",
    "category_of_rent_bins = pd.Series([0, 1, 6, 10, 30, 2000])\n",
    "data2['duration_of_rent'] = pd.cut(data2['minimum_nights'],\n",
    "                                category_of_rent_bins, \n",
    "                                labels =['Daily','Short','Week','Monthly', \"Long\"], \n",
    "                                right=True, include_lowest=True)\n",
    "plt.figure(figsize=(15, 20))\n",
    "for k, district in enumerate(data2.neighbourhood_group.unique()):\n",
    "    plt.subplot(5,1,k+1)\n",
    "    for roomtype in data2.room_type.unique():\n",
    "        sub1 = data2[data2['neighbourhood_group']==district]\n",
    "        sub1 = sub1[sub1['room_type']==roomtype]\n",
    "        sub1 = sub1.groupby(['duration_of_rent'])['price'].mean()\n",
    "        plt.plot(sub1, label=roomtype)\n",
    "    plt.title(district)\n",
    "    plt.ylabel('Mean Price')\n",
    "    plt.legend()"
   ]
  },
  {
   "cell_type": "markdown",
   "id": "f434d583",
   "metadata": {},
   "source": [
    "Для каждого района и типа жилья разная зависимость от срока пребывания и это логично. \n",
    "Жилье на сутки обычно более низкого качества, поэтому в среднем оно дешевле чем на короткий срок. Но оно дороже, чем цена сдачи недвижимости на долгий срок. \n",
    "\n",
    "Мы не видим огромного спада цены на долгосрочную аренду, потому что квартиры на срок от 30 дней сдаются преимущественно легально, и по ним выплачиваются большие налоги в отличие от нелегальных краткосрочных сдач. "
   ]
  },
  {
   "cell_type": "markdown",
   "id": "66b8b0f1",
   "metadata": {},
   "source": [
    "Закодируем значение признака **duration_of_rent**. В качестве значения признака возьмем среднее значение целевой переменной:"
   ]
  },
  {
   "cell_type": "code",
   "execution_count": 362,
   "id": "67503510",
   "metadata": {},
   "outputs": [
    {
     "data": {
      "text/html": [
       "<div>\n",
       "<style scoped>\n",
       "    .dataframe tbody tr th:only-of-type {\n",
       "        vertical-align: middle;\n",
       "    }\n",
       "\n",
       "    .dataframe tbody tr th {\n",
       "        vertical-align: top;\n",
       "    }\n",
       "\n",
       "    .dataframe thead th {\n",
       "        text-align: right;\n",
       "    }\n",
       "</style>\n",
       "<table border=\"1\" class=\"dataframe\">\n",
       "  <thead>\n",
       "    <tr style=\"text-align: right;\">\n",
       "      <th></th>\n",
       "      <th>neighbourhood_group</th>\n",
       "      <th>neighbourhood</th>\n",
       "      <th>latitude</th>\n",
       "      <th>longitude</th>\n",
       "      <th>room_type</th>\n",
       "      <th>price</th>\n",
       "      <th>minimum_nights</th>\n",
       "      <th>number_of_reviews</th>\n",
       "      <th>reviews_per_month</th>\n",
       "      <th>calculated_host_listings_count</th>\n",
       "      <th>availability_365</th>\n",
       "      <th>duration_of_rent</th>\n",
       "      <th>duration_of_rent_m_enc</th>\n",
       "    </tr>\n",
       "  </thead>\n",
       "  <tbody>\n",
       "    <tr>\n",
       "      <th>0</th>\n",
       "      <td>Brooklyn</td>\n",
       "      <td>Kensington</td>\n",
       "      <td>40.64749</td>\n",
       "      <td>-73.97237</td>\n",
       "      <td>Private room</td>\n",
       "      <td>149</td>\n",
       "      <td>1</td>\n",
       "      <td>9</td>\n",
       "      <td>0.21</td>\n",
       "      <td>6</td>\n",
       "      <td>365</td>\n",
       "      <td>Daily</td>\n",
       "      <td>110.901957</td>\n",
       "    </tr>\n",
       "    <tr>\n",
       "      <th>1</th>\n",
       "      <td>Manhattan</td>\n",
       "      <td>Midtown</td>\n",
       "      <td>40.75362</td>\n",
       "      <td>-73.98377</td>\n",
       "      <td>Entire home/apt</td>\n",
       "      <td>225</td>\n",
       "      <td>1</td>\n",
       "      <td>45</td>\n",
       "      <td>0.38</td>\n",
       "      <td>2</td>\n",
       "      <td>355</td>\n",
       "      <td>Daily</td>\n",
       "      <td>110.901957</td>\n",
       "    </tr>\n",
       "    <tr>\n",
       "      <th>2</th>\n",
       "      <td>Manhattan</td>\n",
       "      <td>Harlem</td>\n",
       "      <td>40.80902</td>\n",
       "      <td>-73.94190</td>\n",
       "      <td>Private room</td>\n",
       "      <td>150</td>\n",
       "      <td>3</td>\n",
       "      <td>0</td>\n",
       "      <td>0.00</td>\n",
       "      <td>1</td>\n",
       "      <td>365</td>\n",
       "      <td>Short</td>\n",
       "      <td>132.392470</td>\n",
       "    </tr>\n",
       "    <tr>\n",
       "      <th>3</th>\n",
       "      <td>Brooklyn</td>\n",
       "      <td>Clinton Hill</td>\n",
       "      <td>40.68514</td>\n",
       "      <td>-73.95976</td>\n",
       "      <td>Entire home/apt</td>\n",
       "      <td>89</td>\n",
       "      <td>1</td>\n",
       "      <td>270</td>\n",
       "      <td>4.64</td>\n",
       "      <td>1</td>\n",
       "      <td>194</td>\n",
       "      <td>Daily</td>\n",
       "      <td>110.901957</td>\n",
       "    </tr>\n",
       "    <tr>\n",
       "      <th>4</th>\n",
       "      <td>Manhattan</td>\n",
       "      <td>East Harlem</td>\n",
       "      <td>40.79851</td>\n",
       "      <td>-73.94399</td>\n",
       "      <td>Entire home/apt</td>\n",
       "      <td>80</td>\n",
       "      <td>10</td>\n",
       "      <td>9</td>\n",
       "      <td>0.10</td>\n",
       "      <td>1</td>\n",
       "      <td>0</td>\n",
       "      <td>Week</td>\n",
       "      <td>121.903707</td>\n",
       "    </tr>\n",
       "    <tr>\n",
       "      <th>...</th>\n",
       "      <td>...</td>\n",
       "      <td>...</td>\n",
       "      <td>...</td>\n",
       "      <td>...</td>\n",
       "      <td>...</td>\n",
       "      <td>...</td>\n",
       "      <td>...</td>\n",
       "      <td>...</td>\n",
       "      <td>...</td>\n",
       "      <td>...</td>\n",
       "      <td>...</td>\n",
       "      <td>...</td>\n",
       "      <td>...</td>\n",
       "    </tr>\n",
       "    <tr>\n",
       "      <th>48890</th>\n",
       "      <td>Brooklyn</td>\n",
       "      <td>Bedford-Stuyvesant</td>\n",
       "      <td>40.67853</td>\n",
       "      <td>-73.94995</td>\n",
       "      <td>Private room</td>\n",
       "      <td>70</td>\n",
       "      <td>2</td>\n",
       "      <td>0</td>\n",
       "      <td>0.00</td>\n",
       "      <td>2</td>\n",
       "      <td>9</td>\n",
       "      <td>Short</td>\n",
       "      <td>132.392470</td>\n",
       "    </tr>\n",
       "    <tr>\n",
       "      <th>48891</th>\n",
       "      <td>Brooklyn</td>\n",
       "      <td>Bushwick</td>\n",
       "      <td>40.70184</td>\n",
       "      <td>-73.93317</td>\n",
       "      <td>Private room</td>\n",
       "      <td>40</td>\n",
       "      <td>4</td>\n",
       "      <td>0</td>\n",
       "      <td>0.00</td>\n",
       "      <td>2</td>\n",
       "      <td>36</td>\n",
       "      <td>Short</td>\n",
       "      <td>132.392470</td>\n",
       "    </tr>\n",
       "    <tr>\n",
       "      <th>48892</th>\n",
       "      <td>Manhattan</td>\n",
       "      <td>Harlem</td>\n",
       "      <td>40.81475</td>\n",
       "      <td>-73.94867</td>\n",
       "      <td>Entire home/apt</td>\n",
       "      <td>115</td>\n",
       "      <td>10</td>\n",
       "      <td>0</td>\n",
       "      <td>0.00</td>\n",
       "      <td>1</td>\n",
       "      <td>27</td>\n",
       "      <td>Week</td>\n",
       "      <td>121.903707</td>\n",
       "    </tr>\n",
       "    <tr>\n",
       "      <th>48893</th>\n",
       "      <td>Manhattan</td>\n",
       "      <td>Hell's Kitchen</td>\n",
       "      <td>40.75751</td>\n",
       "      <td>-73.99112</td>\n",
       "      <td>Shared room</td>\n",
       "      <td>55</td>\n",
       "      <td>1</td>\n",
       "      <td>0</td>\n",
       "      <td>0.00</td>\n",
       "      <td>6</td>\n",
       "      <td>2</td>\n",
       "      <td>Daily</td>\n",
       "      <td>110.901957</td>\n",
       "    </tr>\n",
       "    <tr>\n",
       "      <th>48894</th>\n",
       "      <td>Manhattan</td>\n",
       "      <td>Hell's Kitchen</td>\n",
       "      <td>40.76404</td>\n",
       "      <td>-73.98933</td>\n",
       "      <td>Private room</td>\n",
       "      <td>90</td>\n",
       "      <td>7</td>\n",
       "      <td>0</td>\n",
       "      <td>0.00</td>\n",
       "      <td>1</td>\n",
       "      <td>23</td>\n",
       "      <td>Week</td>\n",
       "      <td>121.903707</td>\n",
       "    </tr>\n",
       "  </tbody>\n",
       "</table>\n",
       "<p>44412 rows × 13 columns</p>\n",
       "</div>"
      ],
      "text/plain": [
       "      neighbourhood_group       neighbourhood  latitude  longitude  \\\n",
       "0                Brooklyn          Kensington  40.64749  -73.97237   \n",
       "1               Manhattan             Midtown  40.75362  -73.98377   \n",
       "2               Manhattan              Harlem  40.80902  -73.94190   \n",
       "3                Brooklyn        Clinton Hill  40.68514  -73.95976   \n",
       "4               Manhattan         East Harlem  40.79851  -73.94399   \n",
       "...                   ...                 ...       ...        ...   \n",
       "48890            Brooklyn  Bedford-Stuyvesant  40.67853  -73.94995   \n",
       "48891            Brooklyn            Bushwick  40.70184  -73.93317   \n",
       "48892           Manhattan              Harlem  40.81475  -73.94867   \n",
       "48893           Manhattan      Hell's Kitchen  40.75751  -73.99112   \n",
       "48894           Manhattan      Hell's Kitchen  40.76404  -73.98933   \n",
       "\n",
       "             room_type  price  minimum_nights  number_of_reviews  \\\n",
       "0         Private room    149               1                  9   \n",
       "1      Entire home/apt    225               1                 45   \n",
       "2         Private room    150               3                  0   \n",
       "3      Entire home/apt     89               1                270   \n",
       "4      Entire home/apt     80              10                  9   \n",
       "...                ...    ...             ...                ...   \n",
       "48890     Private room     70               2                  0   \n",
       "48891     Private room     40               4                  0   \n",
       "48892  Entire home/apt    115              10                  0   \n",
       "48893      Shared room     55               1                  0   \n",
       "48894     Private room     90               7                  0   \n",
       "\n",
       "       reviews_per_month  calculated_host_listings_count  availability_365  \\\n",
       "0                   0.21                               6               365   \n",
       "1                   0.38                               2               355   \n",
       "2                   0.00                               1               365   \n",
       "3                   4.64                               1               194   \n",
       "4                   0.10                               1                 0   \n",
       "...                  ...                             ...               ...   \n",
       "48890               0.00                               2                 9   \n",
       "48891               0.00                               2                36   \n",
       "48892               0.00                               1                27   \n",
       "48893               0.00                               6                 2   \n",
       "48894               0.00                               1                23   \n",
       "\n",
       "      duration_of_rent  duration_of_rent_m_enc  \n",
       "0                Daily              110.901957  \n",
       "1                Daily              110.901957  \n",
       "2                Short              132.392470  \n",
       "3                Daily              110.901957  \n",
       "4                 Week              121.903707  \n",
       "...                ...                     ...  \n",
       "48890            Short              132.392470  \n",
       "48891            Short              132.392470  \n",
       "48892             Week              121.903707  \n",
       "48893            Daily              110.901957  \n",
       "48894             Week              121.903707  \n",
       "\n",
       "[44412 rows x 13 columns]"
      ]
     },
     "execution_count": 362,
     "metadata": {},
     "output_type": "execute_result"
    }
   ],
   "source": [
    "data2 = mean_target_encoding(data2, 'price', 'duration_of_rent')\n",
    "data2['duration_of_rent_m_enc'] = pd.to_numeric(data2['duration_of_rent_m_enc'], errors='coerce')\n",
    "data2"
   ]
  },
  {
   "cell_type": "markdown",
   "id": "2966fea5",
   "metadata": {},
   "source": [
    "Проделаем аналогичные действия как с базовой моделью: "
   ]
  },
  {
   "cell_type": "code",
   "execution_count": 364,
   "id": "32f39843",
   "metadata": {},
   "outputs": [],
   "source": [
    "data2 = mean_target_encoding(data2, 'price', 'neighbourhood')\n",
    "data2.drop(columns = ['neighbourhood', 'duration_of_rent', 'minimum_nights'], axis =1, inplace=True)"
   ]
  },
  {
   "cell_type": "code",
   "execution_count": 365,
   "id": "821dd73e",
   "metadata": {},
   "outputs": [],
   "source": [
    "data2 = pd.get_dummies(data2, columns=['room_type', 'neighbourhood_group'], drop_first=True)"
   ]
  },
  {
   "cell_type": "code",
   "execution_count": 366,
   "id": "4d7d7a56",
   "metadata": {},
   "outputs": [
    {
     "data": {
      "text/html": [
       "<div>\n",
       "<style scoped>\n",
       "    .dataframe tbody tr th:only-of-type {\n",
       "        vertical-align: middle;\n",
       "    }\n",
       "\n",
       "    .dataframe tbody tr th {\n",
       "        vertical-align: top;\n",
       "    }\n",
       "\n",
       "    .dataframe thead th {\n",
       "        text-align: right;\n",
       "    }\n",
       "</style>\n",
       "<table border=\"1\" class=\"dataframe\">\n",
       "  <thead>\n",
       "    <tr style=\"text-align: right;\">\n",
       "      <th></th>\n",
       "      <th>latitude</th>\n",
       "      <th>longitude</th>\n",
       "      <th>price</th>\n",
       "      <th>number_of_reviews</th>\n",
       "      <th>reviews_per_month</th>\n",
       "      <th>calculated_host_listings_count</th>\n",
       "      <th>availability_365</th>\n",
       "      <th>duration_of_rent_m_enc</th>\n",
       "      <th>neighbourhood_m_enc</th>\n",
       "      <th>room_type_Private room</th>\n",
       "      <th>room_type_Shared room</th>\n",
       "      <th>neighbourhood_group_Brooklyn</th>\n",
       "      <th>neighbourhood_group_Manhattan</th>\n",
       "      <th>neighbourhood_group_Queens</th>\n",
       "      <th>neighbourhood_group_Staten Island</th>\n",
       "    </tr>\n",
       "  </thead>\n",
       "  <tbody>\n",
       "    <tr>\n",
       "      <th>0</th>\n",
       "      <td>40.64749</td>\n",
       "      <td>-73.97237</td>\n",
       "      <td>149</td>\n",
       "      <td>9</td>\n",
       "      <td>0.21</td>\n",
       "      <td>6</td>\n",
       "      <td>365</td>\n",
       "      <td>110.901957</td>\n",
       "      <td>91.980645</td>\n",
       "      <td>1</td>\n",
       "      <td>0</td>\n",
       "      <td>1</td>\n",
       "      <td>0</td>\n",
       "      <td>0</td>\n",
       "      <td>0</td>\n",
       "    </tr>\n",
       "    <tr>\n",
       "      <th>1</th>\n",
       "      <td>40.75362</td>\n",
       "      <td>-73.98377</td>\n",
       "      <td>225</td>\n",
       "      <td>45</td>\n",
       "      <td>0.38</td>\n",
       "      <td>2</td>\n",
       "      <td>355</td>\n",
       "      <td>110.901957</td>\n",
       "      <td>190.532618</td>\n",
       "      <td>0</td>\n",
       "      <td>0</td>\n",
       "      <td>0</td>\n",
       "      <td>1</td>\n",
       "      <td>0</td>\n",
       "      <td>0</td>\n",
       "    </tr>\n",
       "    <tr>\n",
       "      <th>2</th>\n",
       "      <td>40.80902</td>\n",
       "      <td>-73.94190</td>\n",
       "      <td>150</td>\n",
       "      <td>0</td>\n",
       "      <td>0.00</td>\n",
       "      <td>1</td>\n",
       "      <td>365</td>\n",
       "      <td>132.392470</td>\n",
       "      <td>107.511933</td>\n",
       "      <td>1</td>\n",
       "      <td>0</td>\n",
       "      <td>0</td>\n",
       "      <td>1</td>\n",
       "      <td>0</td>\n",
       "      <td>0</td>\n",
       "    </tr>\n",
       "    <tr>\n",
       "      <th>3</th>\n",
       "      <td>40.68514</td>\n",
       "      <td>-73.95976</td>\n",
       "      <td>89</td>\n",
       "      <td>270</td>\n",
       "      <td>4.64</td>\n",
       "      <td>1</td>\n",
       "      <td>194</td>\n",
       "      <td>110.901957</td>\n",
       "      <td>128.680970</td>\n",
       "      <td>0</td>\n",
       "      <td>0</td>\n",
       "      <td>1</td>\n",
       "      <td>0</td>\n",
       "      <td>0</td>\n",
       "      <td>0</td>\n",
       "    </tr>\n",
       "    <tr>\n",
       "      <th>4</th>\n",
       "      <td>40.79851</td>\n",
       "      <td>-73.94399</td>\n",
       "      <td>80</td>\n",
       "      <td>9</td>\n",
       "      <td>0.10</td>\n",
       "      <td>1</td>\n",
       "      <td>0</td>\n",
       "      <td>121.903707</td>\n",
       "      <td>115.956279</td>\n",
       "      <td>0</td>\n",
       "      <td>0</td>\n",
       "      <td>0</td>\n",
       "      <td>1</td>\n",
       "      <td>0</td>\n",
       "      <td>0</td>\n",
       "    </tr>\n",
       "  </tbody>\n",
       "</table>\n",
       "</div>"
      ],
      "text/plain": [
       "   latitude  longitude  price  number_of_reviews  reviews_per_month  \\\n",
       "0  40.64749  -73.97237    149                  9               0.21   \n",
       "1  40.75362  -73.98377    225                 45               0.38   \n",
       "2  40.80902  -73.94190    150                  0               0.00   \n",
       "3  40.68514  -73.95976     89                270               4.64   \n",
       "4  40.79851  -73.94399     80                  9               0.10   \n",
       "\n",
       "   calculated_host_listings_count  availability_365  duration_of_rent_m_enc  \\\n",
       "0                               6               365              110.901957   \n",
       "1                               2               355              110.901957   \n",
       "2                               1               365              132.392470   \n",
       "3                               1               194              110.901957   \n",
       "4                               1                 0              121.903707   \n",
       "\n",
       "   neighbourhood_m_enc  room_type_Private room  room_type_Shared room  \\\n",
       "0            91.980645                       1                      0   \n",
       "1           190.532618                       0                      0   \n",
       "2           107.511933                       1                      0   \n",
       "3           128.680970                       0                      0   \n",
       "4           115.956279                       0                      0   \n",
       "\n",
       "   neighbourhood_group_Brooklyn  neighbourhood_group_Manhattan  \\\n",
       "0                             1                              0   \n",
       "1                             0                              1   \n",
       "2                             0                              1   \n",
       "3                             1                              0   \n",
       "4                             0                              1   \n",
       "\n",
       "   neighbourhood_group_Queens  neighbourhood_group_Staten Island  \n",
       "0                           0                                  0  \n",
       "1                           0                                  0  \n",
       "2                           0                                  0  \n",
       "3                           0                                  0  \n",
       "4                           0                                  0  "
      ]
     },
     "execution_count": 366,
     "metadata": {},
     "output_type": "execute_result"
    }
   ],
   "source": [
    "data2.head()"
   ]
  },
  {
   "cell_type": "markdown",
   "id": "ee73b7d3",
   "metadata": {},
   "source": [
    "Разделим целевую переменную и признаки:"
   ]
  },
  {
   "cell_type": "code",
   "execution_count": 367,
   "id": "95ab31ec",
   "metadata": {},
   "outputs": [],
   "source": [
    "target = data2.price\n",
    "features = data2.drop('price', axis=1)"
   ]
  },
  {
   "cell_type": "markdown",
   "id": "6672b385",
   "metadata": {},
   "source": [
    "Разделим выборку на train и test:"
   ]
  },
  {
   "cell_type": "code",
   "execution_count": 368,
   "id": "c59e40ae",
   "metadata": {},
   "outputs": [
    {
     "data": {
      "text/plain": [
       "((31088, 14), (13324, 14), (31088,), (13324,))"
      ]
     },
     "execution_count": 368,
     "metadata": {},
     "output_type": "execute_result"
    }
   ],
   "source": [
    "X_train, X_test, y_train, y_test = train_test_split(\n",
    "    features, target, test_size=0.30, random_state=118\n",
    ")\n",
    "X_train.shape, X_test.shape, y_train.shape, y_test.shape"
   ]
  },
  {
   "cell_type": "code",
   "execution_count": 369,
   "id": "4fcd52ae",
   "metadata": {},
   "outputs": [
    {
     "data": {
      "text/html": [
       "<div>\n",
       "<style scoped>\n",
       "    .dataframe tbody tr th:only-of-type {\n",
       "        vertical-align: middle;\n",
       "    }\n",
       "\n",
       "    .dataframe tbody tr th {\n",
       "        vertical-align: top;\n",
       "    }\n",
       "\n",
       "    .dataframe thead th {\n",
       "        text-align: right;\n",
       "    }\n",
       "</style>\n",
       "<table border=\"1\" class=\"dataframe\">\n",
       "  <thead>\n",
       "    <tr style=\"text-align: right;\">\n",
       "      <th></th>\n",
       "      <th>R2</th>\n",
       "      <th>MAE</th>\n",
       "      <th>RMSE</th>\n",
       "    </tr>\n",
       "  </thead>\n",
       "  <tbody>\n",
       "    <tr>\n",
       "      <th>Linear</th>\n",
       "      <td>0.476081</td>\n",
       "      <td>37.293274</td>\n",
       "      <td>51.585326</td>\n",
       "    </tr>\n",
       "    <tr>\n",
       "      <th>Ridge</th>\n",
       "      <td>0.476082</td>\n",
       "      <td>37.293183</td>\n",
       "      <td>51.585286</td>\n",
       "    </tr>\n",
       "    <tr>\n",
       "      <th>Lasso</th>\n",
       "      <td>0.474201</td>\n",
       "      <td>37.360810</td>\n",
       "      <td>51.677795</td>\n",
       "    </tr>\n",
       "    <tr>\n",
       "      <th>ElasticNetCV</th>\n",
       "      <td>0.475625</td>\n",
       "      <td>37.295085</td>\n",
       "      <td>51.607769</td>\n",
       "    </tr>\n",
       "  </tbody>\n",
       "</table>\n",
       "</div>"
      ],
      "text/plain": [
       "                    R2        MAE       RMSE\n",
       "Linear        0.476081  37.293274  51.585326\n",
       "Ridge         0.476082  37.293183  51.585286\n",
       "Lasso         0.474201  37.360810  51.677795\n",
       "ElasticNetCV  0.475625  37.295085  51.607769"
      ]
     },
     "execution_count": 369,
     "metadata": {},
     "output_type": "execute_result"
    }
   ],
   "source": [
    "pipe_lr = Pipeline([('scaler', StandardScaler()), ('linear', LinearRegression())])\n",
    "pipe_ridge = Pipeline([('scaler', StandardScaler()), ('ridge', Ridge())])\n",
    "pipe_lasso = Pipeline([('scaler', StandardScaler()), ('lasso', Lasso())])\n",
    "pipe_elastic = Pipeline([('scaler', StandardScaler()), ('elasticnetCV', ElasticNetCV())])\n",
    "\n",
    "pipe_lr.fit(X_train, y_train)\n",
    "preds_lr = pipe_lr.predict(X_test)\n",
    "\n",
    "pipe_ridge.fit(X_train, y_train)\n",
    "preds_ridge = pipe_ridge.predict(X_test)\n",
    "\n",
    "pipe_lasso.fit(X_train, y_train)\n",
    "preds_lasso = pipe_lasso.predict(X_test)\n",
    "\n",
    "pipe_elastic.fit(X_train, y_train)\n",
    "preds_elast = pipe_elastic.predict(X_test)\n",
    "\n",
    "\n",
    "\n",
    "results1 = {'R2':[], 'MAE': [], 'RMSE': []}\n",
    "for preds in [preds_lr, preds_ridge, preds_lasso, preds_elast]:\n",
    "    results1['R2'].append(r2_score(y_test, preds))\n",
    "    results1['MAE'].append(mean_absolute_error(y_test, preds))\n",
    "    results1['RMSE'].append(rmse(y_test, preds))\n",
    "\n",
    "res = pd.DataFrame(results1, index = ['Linear', 'Ridge', 'Lasso', 'ElasticNetCV'])\n",
    "res"
   ]
  },
  {
   "cell_type": "markdown",
   "id": "b840b9c8",
   "metadata": {},
   "source": [
    "#### Шаг 2"
   ]
  },
  {
   "cell_type": "markdown",
   "id": "dde47c1e",
   "metadata": {},
   "source": [
    "Результат незначительно ухудшился. Попробуем всесто разделения на группы взять логарифм от показателя минимального количества дней проживания.  "
   ]
  },
  {
   "cell_type": "code",
   "execution_count": 370,
   "id": "7efd1934",
   "metadata": {},
   "outputs": [],
   "source": [
    "data3 = data.copy()\n",
    "data3['minimum_nights'] += 0.000000001\n",
    "data3['minimum_nights'] = np.log10(data3['minimum_nights'])"
   ]
  },
  {
   "cell_type": "code",
   "execution_count": 371,
   "id": "4f926ef0",
   "metadata": {},
   "outputs": [],
   "source": [
    "data3 = mean_target_encoding(data3, 'price', 'neighbourhood')\n",
    "data3.drop(columns = ['neighbourhood'], axis =1, inplace=True)"
   ]
  },
  {
   "cell_type": "code",
   "execution_count": 373,
   "id": "f90e9cef",
   "metadata": {},
   "outputs": [],
   "source": [
    "data3 = pd.get_dummies(data3, columns=['room_type', 'neighbourhood_group'], drop_first=True)"
   ]
  },
  {
   "cell_type": "code",
   "execution_count": 374,
   "id": "ab15fd7d",
   "metadata": {},
   "outputs": [
    {
     "data": {
      "text/html": [
       "<div>\n",
       "<style scoped>\n",
       "    .dataframe tbody tr th:only-of-type {\n",
       "        vertical-align: middle;\n",
       "    }\n",
       "\n",
       "    .dataframe tbody tr th {\n",
       "        vertical-align: top;\n",
       "    }\n",
       "\n",
       "    .dataframe thead th {\n",
       "        text-align: right;\n",
       "    }\n",
       "</style>\n",
       "<table border=\"1\" class=\"dataframe\">\n",
       "  <thead>\n",
       "    <tr style=\"text-align: right;\">\n",
       "      <th></th>\n",
       "      <th>latitude</th>\n",
       "      <th>longitude</th>\n",
       "      <th>price</th>\n",
       "      <th>minimum_nights</th>\n",
       "      <th>number_of_reviews</th>\n",
       "      <th>reviews_per_month</th>\n",
       "      <th>calculated_host_listings_count</th>\n",
       "      <th>availability_365</th>\n",
       "      <th>neighbourhood_m_enc</th>\n",
       "      <th>room_type_Private room</th>\n",
       "      <th>room_type_Shared room</th>\n",
       "      <th>neighbourhood_group_Brooklyn</th>\n",
       "      <th>neighbourhood_group_Manhattan</th>\n",
       "      <th>neighbourhood_group_Queens</th>\n",
       "      <th>neighbourhood_group_Staten Island</th>\n",
       "    </tr>\n",
       "  </thead>\n",
       "  <tbody>\n",
       "    <tr>\n",
       "      <th>0</th>\n",
       "      <td>40.64749</td>\n",
       "      <td>-73.97237</td>\n",
       "      <td>149</td>\n",
       "      <td>4.342945e-10</td>\n",
       "      <td>9</td>\n",
       "      <td>0.21</td>\n",
       "      <td>6</td>\n",
       "      <td>365</td>\n",
       "      <td>91.980645</td>\n",
       "      <td>1</td>\n",
       "      <td>0</td>\n",
       "      <td>1</td>\n",
       "      <td>0</td>\n",
       "      <td>0</td>\n",
       "      <td>0</td>\n",
       "    </tr>\n",
       "    <tr>\n",
       "      <th>1</th>\n",
       "      <td>40.75362</td>\n",
       "      <td>-73.98377</td>\n",
       "      <td>225</td>\n",
       "      <td>4.342945e-10</td>\n",
       "      <td>45</td>\n",
       "      <td>0.38</td>\n",
       "      <td>2</td>\n",
       "      <td>355</td>\n",
       "      <td>190.532618</td>\n",
       "      <td>0</td>\n",
       "      <td>0</td>\n",
       "      <td>0</td>\n",
       "      <td>1</td>\n",
       "      <td>0</td>\n",
       "      <td>0</td>\n",
       "    </tr>\n",
       "    <tr>\n",
       "      <th>2</th>\n",
       "      <td>40.80902</td>\n",
       "      <td>-73.94190</td>\n",
       "      <td>150</td>\n",
       "      <td>4.771213e-01</td>\n",
       "      <td>0</td>\n",
       "      <td>0.00</td>\n",
       "      <td>1</td>\n",
       "      <td>365</td>\n",
       "      <td>107.511933</td>\n",
       "      <td>1</td>\n",
       "      <td>0</td>\n",
       "      <td>0</td>\n",
       "      <td>1</td>\n",
       "      <td>0</td>\n",
       "      <td>0</td>\n",
       "    </tr>\n",
       "    <tr>\n",
       "      <th>3</th>\n",
       "      <td>40.68514</td>\n",
       "      <td>-73.95976</td>\n",
       "      <td>89</td>\n",
       "      <td>4.342945e-10</td>\n",
       "      <td>270</td>\n",
       "      <td>4.64</td>\n",
       "      <td>1</td>\n",
       "      <td>194</td>\n",
       "      <td>128.680970</td>\n",
       "      <td>0</td>\n",
       "      <td>0</td>\n",
       "      <td>1</td>\n",
       "      <td>0</td>\n",
       "      <td>0</td>\n",
       "      <td>0</td>\n",
       "    </tr>\n",
       "    <tr>\n",
       "      <th>4</th>\n",
       "      <td>40.79851</td>\n",
       "      <td>-73.94399</td>\n",
       "      <td>80</td>\n",
       "      <td>1.000000e+00</td>\n",
       "      <td>9</td>\n",
       "      <td>0.10</td>\n",
       "      <td>1</td>\n",
       "      <td>0</td>\n",
       "      <td>115.956279</td>\n",
       "      <td>0</td>\n",
       "      <td>0</td>\n",
       "      <td>0</td>\n",
       "      <td>1</td>\n",
       "      <td>0</td>\n",
       "      <td>0</td>\n",
       "    </tr>\n",
       "  </tbody>\n",
       "</table>\n",
       "</div>"
      ],
      "text/plain": [
       "   latitude  longitude  price  minimum_nights  number_of_reviews  \\\n",
       "0  40.64749  -73.97237    149    4.342945e-10                  9   \n",
       "1  40.75362  -73.98377    225    4.342945e-10                 45   \n",
       "2  40.80902  -73.94190    150    4.771213e-01                  0   \n",
       "3  40.68514  -73.95976     89    4.342945e-10                270   \n",
       "4  40.79851  -73.94399     80    1.000000e+00                  9   \n",
       "\n",
       "   reviews_per_month  calculated_host_listings_count  availability_365  \\\n",
       "0               0.21                               6               365   \n",
       "1               0.38                               2               355   \n",
       "2               0.00                               1               365   \n",
       "3               4.64                               1               194   \n",
       "4               0.10                               1                 0   \n",
       "\n",
       "   neighbourhood_m_enc  room_type_Private room  room_type_Shared room  \\\n",
       "0            91.980645                       1                      0   \n",
       "1           190.532618                       0                      0   \n",
       "2           107.511933                       1                      0   \n",
       "3           128.680970                       0                      0   \n",
       "4           115.956279                       0                      0   \n",
       "\n",
       "   neighbourhood_group_Brooklyn  neighbourhood_group_Manhattan  \\\n",
       "0                             1                              0   \n",
       "1                             0                              1   \n",
       "2                             0                              1   \n",
       "3                             1                              0   \n",
       "4                             0                              1   \n",
       "\n",
       "   neighbourhood_group_Queens  neighbourhood_group_Staten Island  \n",
       "0                           0                                  0  \n",
       "1                           0                                  0  \n",
       "2                           0                                  0  \n",
       "3                           0                                  0  \n",
       "4                           0                                  0  "
      ]
     },
     "execution_count": 374,
     "metadata": {},
     "output_type": "execute_result"
    }
   ],
   "source": [
    "data3.head()"
   ]
  },
  {
   "cell_type": "code",
   "execution_count": 375,
   "id": "e0ec56dd",
   "metadata": {},
   "outputs": [],
   "source": [
    "target = data3.price\n",
    "features = data3.drop('price', axis=1)"
   ]
  },
  {
   "cell_type": "markdown",
   "id": "6c5dd7f4",
   "metadata": {},
   "source": [
    "Разделим выборку на train и test:"
   ]
  },
  {
   "cell_type": "code",
   "execution_count": 376,
   "id": "fae11223",
   "metadata": {},
   "outputs": [
    {
     "data": {
      "text/plain": [
       "((31088, 14), (13324, 14), (31088,), (13324,))"
      ]
     },
     "execution_count": 376,
     "metadata": {},
     "output_type": "execute_result"
    }
   ],
   "source": [
    "X_train, X_test, y_train, y_test = train_test_split(\n",
    "    features, target, test_size=0.30, random_state=118\n",
    ")\n",
    "X_train.shape, X_test.shape, y_train.shape, y_test.shape"
   ]
  },
  {
   "cell_type": "code",
   "execution_count": 378,
   "id": "fb6d5594",
   "metadata": {
    "scrolled": false
   },
   "outputs": [
    {
     "data": {
      "text/html": [
       "<div>\n",
       "<style scoped>\n",
       "    .dataframe tbody tr th:only-of-type {\n",
       "        vertical-align: middle;\n",
       "    }\n",
       "\n",
       "    .dataframe tbody tr th {\n",
       "        vertical-align: top;\n",
       "    }\n",
       "\n",
       "    .dataframe thead th {\n",
       "        text-align: right;\n",
       "    }\n",
       "</style>\n",
       "<table border=\"1\" class=\"dataframe\">\n",
       "  <thead>\n",
       "    <tr style=\"text-align: right;\">\n",
       "      <th></th>\n",
       "      <th>R2</th>\n",
       "      <th>MAE</th>\n",
       "      <th>RMSE</th>\n",
       "    </tr>\n",
       "  </thead>\n",
       "  <tbody>\n",
       "    <tr>\n",
       "      <th>Linear</th>\n",
       "      <td>0.487683</td>\n",
       "      <td>36.912413</td>\n",
       "      <td>51.010944</td>\n",
       "    </tr>\n",
       "    <tr>\n",
       "      <th>Ridge</th>\n",
       "      <td>0.487684</td>\n",
       "      <td>36.912296</td>\n",
       "      <td>51.010919</td>\n",
       "    </tr>\n",
       "    <tr>\n",
       "      <th>Lasso</th>\n",
       "      <td>0.483904</td>\n",
       "      <td>36.977740</td>\n",
       "      <td>51.198767</td>\n",
       "    </tr>\n",
       "    <tr>\n",
       "      <th>ElasticNetCV</th>\n",
       "      <td>0.486658</td>\n",
       "      <td>36.900523</td>\n",
       "      <td>51.061947</td>\n",
       "    </tr>\n",
       "  </tbody>\n",
       "</table>\n",
       "</div>"
      ],
      "text/plain": [
       "                    R2        MAE       RMSE\n",
       "Linear        0.487683  36.912413  51.010944\n",
       "Ridge         0.487684  36.912296  51.010919\n",
       "Lasso         0.483904  36.977740  51.198767\n",
       "ElasticNetCV  0.486658  36.900523  51.061947"
      ]
     },
     "execution_count": 378,
     "metadata": {},
     "output_type": "execute_result"
    }
   ],
   "source": [
    "pipe_lr = Pipeline([('scaler', StandardScaler()), ('linear', LinearRegression())])\n",
    "pipe_ridge = Pipeline([('scaler', StandardScaler()), ('ridge', Ridge())])\n",
    "pipe_lasso = Pipeline([('scaler', StandardScaler()), ('lasso', Lasso())])\n",
    "pipe_elastic = Pipeline([('scaler', StandardScaler()), ('elasticnetCV', ElasticNetCV())])\n",
    "\n",
    "pipe_lr.fit(X_train, y_train)\n",
    "preds_lr = pipe_lr.predict(X_test)\n",
    "\n",
    "pipe_ridge.fit(X_train, y_train)\n",
    "preds_ridge = pipe_ridge.predict(X_test)\n",
    "\n",
    "pipe_lasso.fit(X_train, y_train)\n",
    "preds_lasso = pipe_lasso.predict(X_test)\n",
    "\n",
    "pipe_elastic.fit(X_train, y_train)\n",
    "preds_elast = pipe_elastic.predict(X_test)\n",
    "\n",
    "\n",
    "\n",
    "results2 = {'R2':[], 'MAE': [], 'RMSE': []}\n",
    "for preds in [preds_lr, preds_ridge, preds_lasso, preds_elast]:\n",
    "    results2['R2'].append(r2_score(y_test, preds))\n",
    "    results2['MAE'].append(mean_absolute_error(y_test, preds))\n",
    "    results2['RMSE'].append(rmse(y_test, preds))\n",
    "\n",
    "res = pd.DataFrame(results2, index = ['Linear', 'Ridge', 'Lasso', 'ElasticNetCV'])\n",
    "res"
   ]
  },
  {
   "cell_type": "markdown",
   "id": "0e50be27",
   "metadata": {},
   "source": [
    "Отлично! Нам удалось улучшить результат. Идем дальше."
   ]
  },
  {
   "cell_type": "markdown",
   "id": "4305c2d5",
   "metadata": {},
   "source": [
    "#### Шаг 3"
   ]
  },
  {
   "cell_type": "markdown",
   "id": "07e79a2a",
   "metadata": {},
   "source": [
    "Создадим новый параметр - расстояние до центра. Будем использовать данный параметр, вместо значений широты и долготы объекта.\n",
    "В качестве центра будем использовать координаты Площади Колумба."
   ]
  },
  {
   "cell_type": "code",
   "execution_count": 379,
   "id": "f77b2d99",
   "metadata": {},
   "outputs": [
    {
     "data": {
      "text/html": [
       "<div>\n",
       "<style scoped>\n",
       "    .dataframe tbody tr th:only-of-type {\n",
       "        vertical-align: middle;\n",
       "    }\n",
       "\n",
       "    .dataframe tbody tr th {\n",
       "        vertical-align: top;\n",
       "    }\n",
       "\n",
       "    .dataframe thead th {\n",
       "        text-align: right;\n",
       "    }\n",
       "</style>\n",
       "<table border=\"1\" class=\"dataframe\">\n",
       "  <thead>\n",
       "    <tr style=\"text-align: right;\">\n",
       "      <th></th>\n",
       "      <th>latitude</th>\n",
       "      <th>longitude</th>\n",
       "      <th>price</th>\n",
       "      <th>minimum_nights</th>\n",
       "      <th>number_of_reviews</th>\n",
       "      <th>reviews_per_month</th>\n",
       "      <th>calculated_host_listings_count</th>\n",
       "      <th>availability_365</th>\n",
       "      <th>neighbourhood_m_enc</th>\n",
       "      <th>room_type_Private room</th>\n",
       "      <th>room_type_Shared room</th>\n",
       "      <th>neighbourhood_group_Brooklyn</th>\n",
       "      <th>neighbourhood_group_Manhattan</th>\n",
       "      <th>neighbourhood_group_Queens</th>\n",
       "      <th>neighbourhood_group_Staten Island</th>\n",
       "      <th>distance</th>\n",
       "    </tr>\n",
       "  </thead>\n",
       "  <tbody>\n",
       "    <tr>\n",
       "      <th>0</th>\n",
       "      <td>40.64749</td>\n",
       "      <td>-73.97237</td>\n",
       "      <td>149</td>\n",
       "      <td>4.342945e-10</td>\n",
       "      <td>9</td>\n",
       "      <td>0.21</td>\n",
       "      <td>6</td>\n",
       "      <td>365</td>\n",
       "      <td>91.980645</td>\n",
       "      <td>1</td>\n",
       "      <td>0</td>\n",
       "      <td>1</td>\n",
       "      <td>0</td>\n",
       "      <td>0</td>\n",
       "      <td>0</td>\n",
       "      <td>0.120057</td>\n",
       "    </tr>\n",
       "    <tr>\n",
       "      <th>1</th>\n",
       "      <td>40.75362</td>\n",
       "      <td>-73.98377</td>\n",
       "      <td>225</td>\n",
       "      <td>4.342945e-10</td>\n",
       "      <td>45</td>\n",
       "      <td>0.38</td>\n",
       "      <td>2</td>\n",
       "      <td>355</td>\n",
       "      <td>190.532618</td>\n",
       "      <td>0</td>\n",
       "      <td>0</td>\n",
       "      <td>0</td>\n",
       "      <td>1</td>\n",
       "      <td>0</td>\n",
       "      <td>0</td>\n",
       "      <td>0.015988</td>\n",
       "    </tr>\n",
       "    <tr>\n",
       "      <th>2</th>\n",
       "      <td>40.80902</td>\n",
       "      <td>-73.94190</td>\n",
       "      <td>150</td>\n",
       "      <td>4.771213e-01</td>\n",
       "      <td>0</td>\n",
       "      <td>0.00</td>\n",
       "      <td>1</td>\n",
       "      <td>365</td>\n",
       "      <td>107.511933</td>\n",
       "      <td>1</td>\n",
       "      <td>0</td>\n",
       "      <td>0</td>\n",
       "      <td>1</td>\n",
       "      <td>0</td>\n",
       "      <td>0</td>\n",
       "      <td>0.053622</td>\n",
       "    </tr>\n",
       "    <tr>\n",
       "      <th>3</th>\n",
       "      <td>40.68514</td>\n",
       "      <td>-73.95976</td>\n",
       "      <td>89</td>\n",
       "      <td>4.342945e-10</td>\n",
       "      <td>270</td>\n",
       "      <td>4.64</td>\n",
       "      <td>1</td>\n",
       "      <td>194</td>\n",
       "      <td>128.680970</td>\n",
       "      <td>0</td>\n",
       "      <td>0</td>\n",
       "      <td>1</td>\n",
       "      <td>0</td>\n",
       "      <td>0</td>\n",
       "      <td>0</td>\n",
       "      <td>0.083910</td>\n",
       "    </tr>\n",
       "    <tr>\n",
       "      <th>4</th>\n",
       "      <td>40.79851</td>\n",
       "      <td>-73.94399</td>\n",
       "      <td>80</td>\n",
       "      <td>1.000000e+00</td>\n",
       "      <td>9</td>\n",
       "      <td>0.10</td>\n",
       "      <td>1</td>\n",
       "      <td>0</td>\n",
       "      <td>115.956279</td>\n",
       "      <td>0</td>\n",
       "      <td>0</td>\n",
       "      <td>0</td>\n",
       "      <td>1</td>\n",
       "      <td>0</td>\n",
       "      <td>0</td>\n",
       "      <td>0.044447</td>\n",
       "    </tr>\n",
       "  </tbody>\n",
       "</table>\n",
       "</div>"
      ],
      "text/plain": [
       "   latitude  longitude  price  minimum_nights  number_of_reviews  \\\n",
       "0  40.64749  -73.97237    149    4.342945e-10                  9   \n",
       "1  40.75362  -73.98377    225    4.342945e-10                 45   \n",
       "2  40.80902  -73.94190    150    4.771213e-01                  0   \n",
       "3  40.68514  -73.95976     89    4.342945e-10                270   \n",
       "4  40.79851  -73.94399     80    1.000000e+00                  9   \n",
       "\n",
       "   reviews_per_month  calculated_host_listings_count  availability_365  \\\n",
       "0               0.21                               6               365   \n",
       "1               0.38                               2               355   \n",
       "2               0.00                               1               365   \n",
       "3               4.64                               1               194   \n",
       "4               0.10                               1                 0   \n",
       "\n",
       "   neighbourhood_m_enc  room_type_Private room  room_type_Shared room  \\\n",
       "0            91.980645                       1                      0   \n",
       "1           190.532618                       0                      0   \n",
       "2           107.511933                       1                      0   \n",
       "3           128.680970                       0                      0   \n",
       "4           115.956279                       0                      0   \n",
       "\n",
       "   neighbourhood_group_Brooklyn  neighbourhood_group_Manhattan  \\\n",
       "0                             1                              0   \n",
       "1                             0                              1   \n",
       "2                             0                              1   \n",
       "3                             1                              0   \n",
       "4                             0                              1   \n",
       "\n",
       "   neighbourhood_group_Queens  neighbourhood_group_Staten Island  distance  \n",
       "0                           0                                  0  0.120057  \n",
       "1                           0                                  0  0.015988  \n",
       "2                           0                                  0  0.053622  \n",
       "3                           0                                  0  0.083910  \n",
       "4                           0                                  0  0.044447  "
      ]
     },
     "execution_count": 379,
     "metadata": {},
     "output_type": "execute_result"
    }
   ],
   "source": [
    "lat0 = 40.76749693\n",
    "long0 = -73.97582943\n",
    "data4 = data3.copy()\n",
    "data4['distance'] = np.sqrt((lat0 - data4['latitude'])**2 + (long0 - data4['longitude'])**2)\n",
    "data4.head()"
   ]
  },
  {
   "cell_type": "markdown",
   "id": "5feadf07",
   "metadata": {},
   "source": [
    "Так же попробуем взять в качестве отправной точки - координаты Times Square"
   ]
  },
  {
   "cell_type": "code",
   "execution_count": 380,
   "id": "d5f642f5",
   "metadata": {
    "scrolled": true
   },
   "outputs": [
    {
     "data": {
      "text/html": [
       "<div>\n",
       "<style scoped>\n",
       "    .dataframe tbody tr th:only-of-type {\n",
       "        vertical-align: middle;\n",
       "    }\n",
       "\n",
       "    .dataframe tbody tr th {\n",
       "        vertical-align: top;\n",
       "    }\n",
       "\n",
       "    .dataframe thead th {\n",
       "        text-align: right;\n",
       "    }\n",
       "</style>\n",
       "<table border=\"1\" class=\"dataframe\">\n",
       "  <thead>\n",
       "    <tr style=\"text-align: right;\">\n",
       "      <th></th>\n",
       "      <th>latitude</th>\n",
       "      <th>longitude</th>\n",
       "      <th>price</th>\n",
       "      <th>minimum_nights</th>\n",
       "      <th>number_of_reviews</th>\n",
       "      <th>reviews_per_month</th>\n",
       "      <th>calculated_host_listings_count</th>\n",
       "      <th>availability_365</th>\n",
       "      <th>neighbourhood_m_enc</th>\n",
       "      <th>room_type_Private room</th>\n",
       "      <th>room_type_Shared room</th>\n",
       "      <th>neighbourhood_group_Brooklyn</th>\n",
       "      <th>neighbourhood_group_Manhattan</th>\n",
       "      <th>neighbourhood_group_Queens</th>\n",
       "      <th>neighbourhood_group_Staten Island</th>\n",
       "      <th>distance</th>\n",
       "      <th>distanceTS</th>\n",
       "    </tr>\n",
       "  </thead>\n",
       "  <tbody>\n",
       "    <tr>\n",
       "      <th>0</th>\n",
       "      <td>40.64749</td>\n",
       "      <td>-73.97237</td>\n",
       "      <td>149</td>\n",
       "      <td>4.342945e-10</td>\n",
       "      <td>9</td>\n",
       "      <td>0.21</td>\n",
       "      <td>6</td>\n",
       "      <td>365</td>\n",
       "      <td>91.980645</td>\n",
       "      <td>1</td>\n",
       "      <td>0</td>\n",
       "      <td>1</td>\n",
       "      <td>0</td>\n",
       "      <td>0</td>\n",
       "      <td>0</td>\n",
       "      <td>0.120057</td>\n",
       "      <td>0.110712</td>\n",
       "    </tr>\n",
       "    <tr>\n",
       "      <th>1</th>\n",
       "      <td>40.75362</td>\n",
       "      <td>-73.98377</td>\n",
       "      <td>225</td>\n",
       "      <td>4.342945e-10</td>\n",
       "      <td>45</td>\n",
       "      <td>0.38</td>\n",
       "      <td>2</td>\n",
       "      <td>355</td>\n",
       "      <td>190.532618</td>\n",
       "      <td>0</td>\n",
       "      <td>0</td>\n",
       "      <td>0</td>\n",
       "      <td>1</td>\n",
       "      <td>0</td>\n",
       "      <td>0</td>\n",
       "      <td>0.015988</td>\n",
       "      <td>0.004371</td>\n",
       "    </tr>\n",
       "    <tr>\n",
       "      <th>2</th>\n",
       "      <td>40.80902</td>\n",
       "      <td>-73.94190</td>\n",
       "      <td>150</td>\n",
       "      <td>4.771213e-01</td>\n",
       "      <td>0</td>\n",
       "      <td>0.00</td>\n",
       "      <td>1</td>\n",
       "      <td>365</td>\n",
       "      <td>107.511933</td>\n",
       "      <td>1</td>\n",
       "      <td>0</td>\n",
       "      <td>0</td>\n",
       "      <td>1</td>\n",
       "      <td>0</td>\n",
       "      <td>0</td>\n",
       "      <td>0.053622</td>\n",
       "      <td>0.067953</td>\n",
       "    </tr>\n",
       "    <tr>\n",
       "      <th>3</th>\n",
       "      <td>40.68514</td>\n",
       "      <td>-73.95976</td>\n",
       "      <td>89</td>\n",
       "      <td>4.342945e-10</td>\n",
       "      <td>270</td>\n",
       "      <td>4.64</td>\n",
       "      <td>1</td>\n",
       "      <td>194</td>\n",
       "      <td>128.680970</td>\n",
       "      <td>0</td>\n",
       "      <td>0</td>\n",
       "      <td>1</td>\n",
       "      <td>0</td>\n",
       "      <td>0</td>\n",
       "      <td>0</td>\n",
       "      <td>0.083910</td>\n",
       "      <td>0.076848</td>\n",
       "    </tr>\n",
       "    <tr>\n",
       "      <th>4</th>\n",
       "      <td>40.79851</td>\n",
       "      <td>-73.94399</td>\n",
       "      <td>80</td>\n",
       "      <td>1.000000e+00</td>\n",
       "      <td>9</td>\n",
       "      <td>0.10</td>\n",
       "      <td>1</td>\n",
       "      <td>0</td>\n",
       "      <td>115.956279</td>\n",
       "      <td>0</td>\n",
       "      <td>0</td>\n",
       "      <td>0</td>\n",
       "      <td>1</td>\n",
       "      <td>0</td>\n",
       "      <td>0</td>\n",
       "      <td>0.044447</td>\n",
       "      <td>0.058838</td>\n",
       "    </tr>\n",
       "  </tbody>\n",
       "</table>\n",
       "</div>"
      ],
      "text/plain": [
       "   latitude  longitude  price  minimum_nights  number_of_reviews  \\\n",
       "0  40.64749  -73.97237    149    4.342945e-10                  9   \n",
       "1  40.75362  -73.98377    225    4.342945e-10                 45   \n",
       "2  40.80902  -73.94190    150    4.771213e-01                  0   \n",
       "3  40.68514  -73.95976     89    4.342945e-10                270   \n",
       "4  40.79851  -73.94399     80    1.000000e+00                  9   \n",
       "\n",
       "   reviews_per_month  calculated_host_listings_count  availability_365  \\\n",
       "0               0.21                               6               365   \n",
       "1               0.38                               2               355   \n",
       "2               0.00                               1               365   \n",
       "3               4.64                               1               194   \n",
       "4               0.10                               1                 0   \n",
       "\n",
       "   neighbourhood_m_enc  room_type_Private room  room_type_Shared room  \\\n",
       "0            91.980645                       1                      0   \n",
       "1           190.532618                       0                      0   \n",
       "2           107.511933                       1                      0   \n",
       "3           128.680970                       0                      0   \n",
       "4           115.956279                       0                      0   \n",
       "\n",
       "   neighbourhood_group_Brooklyn  neighbourhood_group_Manhattan  \\\n",
       "0                             1                              0   \n",
       "1                             0                              1   \n",
       "2                             0                              1   \n",
       "3                             1                              0   \n",
       "4                             0                              1   \n",
       "\n",
       "   neighbourhood_group_Queens  neighbourhood_group_Staten Island  distance  \\\n",
       "0                           0                                  0  0.120057   \n",
       "1                           0                                  0  0.015988   \n",
       "2                           0                                  0  0.053622   \n",
       "3                           0                                  0  0.083910   \n",
       "4                           0                                  0  0.044447   \n",
       "\n",
       "   distanceTS  \n",
       "0    0.110712  \n",
       "1    0.004371  \n",
       "2    0.067953  \n",
       "3    0.076848  \n",
       "4    0.058838  "
      ]
     },
     "execution_count": 380,
     "metadata": {},
     "output_type": "execute_result"
    }
   ],
   "source": [
    "latTS = 40.757355\n",
    "longTS = -73.98604\n",
    "data4['distanceTS'] = np.sqrt((latTS - data4['latitude'])**2 + (longTS - data4['longitude'])**2)\n",
    "data4.head()"
   ]
  },
  {
   "cell_type": "markdown",
   "id": "3e5fadbb",
   "metadata": {},
   "source": [
    "Построим heatmap матрицы коррелиации:"
   ]
  },
  {
   "cell_type": "code",
   "execution_count": 381,
   "id": "cd3e6a54",
   "metadata": {},
   "outputs": [
    {
     "data": {
      "image/png": "[encoded data removed]",
      "text/plain": [
       "<Figure size 1296x1080 with 2 Axes>"
      ]
     },
     "metadata": {
      "needs_background": "light"
     },
     "output_type": "display_data"
    }
   ],
   "source": [
    "plt.subplots(figsize=(18,15))\n",
    "sns.heatmap(data4.corr(), cmap=sns.color_palette(\"coolwarm\", 10000), annot=True, vmin=-1, center=0)\n",
    "plt.show()"
   ]
  },
  {
   "cell_type": "markdown",
   "id": "67362a2c",
   "metadata": {},
   "source": [
    "Как мы видим дистанция от второй точки лучше коррелирует с целевой переменной, оставим этот параметр:"
   ]
  },
  {
   "cell_type": "code",
   "execution_count": 382,
   "id": "4b72a42b",
   "metadata": {},
   "outputs": [],
   "source": [
    "data4.drop(columns = ['distance', 'latitude', 'longitude'], axis =1, inplace=True)"
   ]
  },
  {
   "cell_type": "markdown",
   "id": "dd6fdbc5",
   "metadata": {},
   "source": [
    "Разделим целевую переменную и признаки:"
   ]
  },
  {
   "cell_type": "code",
   "execution_count": 383,
   "id": "97b82d08",
   "metadata": {},
   "outputs": [],
   "source": [
    "target = data4.price\n",
    "features = data4.drop('price', axis=1)"
   ]
  },
  {
   "cell_type": "markdown",
   "id": "2186316b",
   "metadata": {},
   "source": [
    "Разделим выборку на train и test:"
   ]
  },
  {
   "cell_type": "code",
   "execution_count": 384,
   "id": "7e0e96d8",
   "metadata": {},
   "outputs": [
    {
     "data": {
      "text/plain": [
       "((31088, 13), (13324, 13), (31088,), (13324,))"
      ]
     },
     "execution_count": 384,
     "metadata": {},
     "output_type": "execute_result"
    }
   ],
   "source": [
    "X_train, X_test, y_train, y_test = train_test_split(\n",
    "    features, target, test_size=0.30, random_state=118\n",
    ")\n",
    "X_train.shape, X_test.shape, y_train.shape, y_test.shape"
   ]
  },
  {
   "cell_type": "code",
   "execution_count": 385,
   "id": "307e2d0b",
   "metadata": {
    "scrolled": true
   },
   "outputs": [
    {
     "data": {
      "text/html": [
       "<div>\n",
       "<style scoped>\n",
       "    .dataframe tbody tr th:only-of-type {\n",
       "        vertical-align: middle;\n",
       "    }\n",
       "\n",
       "    .dataframe tbody tr th {\n",
       "        vertical-align: top;\n",
       "    }\n",
       "\n",
       "    .dataframe thead th {\n",
       "        text-align: right;\n",
       "    }\n",
       "</style>\n",
       "<table border=\"1\" class=\"dataframe\">\n",
       "  <thead>\n",
       "    <tr style=\"text-align: right;\">\n",
       "      <th></th>\n",
       "      <th>R2</th>\n",
       "      <th>MAE</th>\n",
       "      <th>RMSE</th>\n",
       "    </tr>\n",
       "  </thead>\n",
       "  <tbody>\n",
       "    <tr>\n",
       "      <th>Linear</th>\n",
       "      <td>0.489134</td>\n",
       "      <td>36.836527</td>\n",
       "      <td>50.938668</td>\n",
       "    </tr>\n",
       "    <tr>\n",
       "      <th>Ridge</th>\n",
       "      <td>0.489134</td>\n",
       "      <td>36.836492</td>\n",
       "      <td>50.938664</td>\n",
       "    </tr>\n",
       "    <tr>\n",
       "      <th>Lasso</th>\n",
       "      <td>0.486698</td>\n",
       "      <td>36.872758</td>\n",
       "      <td>51.059950</td>\n",
       "    </tr>\n",
       "    <tr>\n",
       "      <th>ElasticNetCV</th>\n",
       "      <td>0.488375</td>\n",
       "      <td>36.847700</td>\n",
       "      <td>50.976505</td>\n",
       "    </tr>\n",
       "  </tbody>\n",
       "</table>\n",
       "</div>"
      ],
      "text/plain": [
       "                    R2        MAE       RMSE\n",
       "Linear        0.489134  36.836527  50.938668\n",
       "Ridge         0.489134  36.836492  50.938664\n",
       "Lasso         0.486698  36.872758  51.059950\n",
       "ElasticNetCV  0.488375  36.847700  50.976505"
      ]
     },
     "execution_count": 385,
     "metadata": {},
     "output_type": "execute_result"
    }
   ],
   "source": [
    "pipe_lr = Pipeline([('scaler', StandardScaler()), ('linear', LinearRegression())])\n",
    "pipe_ridge = Pipeline([('scaler', StandardScaler()), ('ridge', Ridge())])\n",
    "pipe_lasso = Pipeline([('scaler', StandardScaler()), ('lasso', Lasso())])\n",
    "pipe_elastic = Pipeline([('scaler', StandardScaler()), ('elasticnetCV', ElasticNetCV())])\n",
    "\n",
    "pipe_lr.fit(X_train, y_train)\n",
    "preds_lr = pipe_lr.predict(X_test)\n",
    "\n",
    "pipe_ridge.fit(X_train, y_train)\n",
    "preds_ridge = pipe_ridge.predict(X_test)\n",
    "\n",
    "pipe_lasso.fit(X_train, y_train)\n",
    "preds_lasso = pipe_lasso.predict(X_test)\n",
    "\n",
    "pipe_elastic.fit(X_train, y_train)\n",
    "preds_elast = pipe_elastic.predict(X_test)\n",
    "\n",
    "\n",
    "\n",
    "results3 = {'R2':[], 'MAE': [], 'RMSE': []}\n",
    "for preds in [preds_lr, preds_ridge, preds_lasso, preds_elast]:\n",
    "    results3['R2'].append(r2_score(y_test, preds))\n",
    "    results3['MAE'].append(mean_absolute_error(y_test, preds))\n",
    "    results3['RMSE'].append(rmse(y_test, preds))\n",
    "\n",
    "res = pd.DataFrame(results3, index = ['Linear', 'Ridge', 'Lasso', 'ElasticNetCV'])\n",
    "res"
   ]
  },
  {
   "cell_type": "markdown",
   "id": "41a00667",
   "metadata": {},
   "source": [
    "Нам удалось еще немножко улучшить результат. Ниже результаты baseline модели: "
   ]
  },
  {
   "cell_type": "code",
   "execution_count": 386,
   "id": "7f73d740",
   "metadata": {},
   "outputs": [
    {
     "data": {
      "text/html": [
       "<div>\n",
       "<style scoped>\n",
       "    .dataframe tbody tr th:only-of-type {\n",
       "        vertical-align: middle;\n",
       "    }\n",
       "\n",
       "    .dataframe tbody tr th {\n",
       "        vertical-align: top;\n",
       "    }\n",
       "\n",
       "    .dataframe thead th {\n",
       "        text-align: right;\n",
       "    }\n",
       "</style>\n",
       "<table border=\"1\" class=\"dataframe\">\n",
       "  <thead>\n",
       "    <tr style=\"text-align: right;\">\n",
       "      <th></th>\n",
       "      <th>R2</th>\n",
       "      <th>MAE</th>\n",
       "      <th>RMSE</th>\n",
       "    </tr>\n",
       "  </thead>\n",
       "  <tbody>\n",
       "    <tr>\n",
       "      <th>Linear</th>\n",
       "      <td>0.478462</td>\n",
       "      <td>37.173400</td>\n",
       "      <td>51.467972</td>\n",
       "    </tr>\n",
       "    <tr>\n",
       "      <th>Ridge</th>\n",
       "      <td>0.478463</td>\n",
       "      <td>37.173321</td>\n",
       "      <td>51.467922</td>\n",
       "    </tr>\n",
       "    <tr>\n",
       "      <th>Lasso</th>\n",
       "      <td>0.477138</td>\n",
       "      <td>37.241102</td>\n",
       "      <td>51.533237</td>\n",
       "    </tr>\n",
       "    <tr>\n",
       "      <th>ElasticNetCV</th>\n",
       "      <td>0.478237</td>\n",
       "      <td>37.178612</td>\n",
       "      <td>51.479057</td>\n",
       "    </tr>\n",
       "  </tbody>\n",
       "</table>\n",
       "</div>"
      ],
      "text/plain": [
       "                    R2        MAE       RMSE\n",
       "Linear        0.478462  37.173400  51.467972\n",
       "Ridge         0.478463  37.173321  51.467922\n",
       "Lasso         0.477138  37.241102  51.533237\n",
       "ElasticNetCV  0.478237  37.178612  51.479057"
      ]
     },
     "execution_count": 386,
     "metadata": {},
     "output_type": "execute_result"
    }
   ],
   "source": [
    "res0 = pd.DataFrame(results0, index = ['Linear', 'Ridge', 'Lasso', 'ElasticNetCV'])\n",
    "res0"
   ]
  },
  {
   "cell_type": "markdown",
   "id": "b28ba2a1",
   "metadata": {},
   "source": [
    "Низкие метрики качества вполне логичны, так как у нас наблюдается огромная дисперсия и недостаток признаков, для эффективного определения цены аренды жилья (площадь объекта, количество спальных мест и т.д.) Значение дисперсии вы можете увидеть ниже:   "
   ]
  },
  {
   "cell_type": "code",
   "execution_count": 388,
   "id": "2cb30252",
   "metadata": {},
   "outputs": [
    {
     "name": "stderr",
     "output_type": "stream",
     "text": [
      "<ipython-input-388-fb438e47cb4e>:1: FutureWarning: Dropping of nuisance columns in DataFrame reductions (with 'numeric_only=None') is deprecated; in a future version this will raise TypeError.  Select only valid columns before calling the reduction.\n",
      "  data.var()['price']\n"
     ]
    },
    {
     "data": {
      "text/plain": [
       "5029.506396394953"
      ]
     },
     "execution_count": 388,
     "metadata": {},
     "output_type": "execute_result"
    }
   ],
   "source": [
    "data.var()['price']"
   ]
  },
  {
   "cell_type": "markdown",
   "id": "161807a3",
   "metadata": {},
   "source": [
    "### Построим модель случайного леса:"
   ]
  },
  {
   "cell_type": "markdown",
   "id": "d1eaf6a1",
   "metadata": {},
   "source": [
    "Подберем гиперпараметры:"
   ]
  },
  {
   "cell_type": "code",
   "execution_count": 395,
   "id": "48f171d8",
   "metadata": {},
   "outputs": [
    {
     "name": "stdout",
     "output_type": "stream",
     "text": [
      "Best parameters:  {'max_depth': 10, 'max_features': None, 'n_estimators': 500}\n"
     ]
    }
   ],
   "source": [
    "from sklearn.model_selection import GridSearchCV\n",
    "parameters = {'n_estimators': [100, 500], 'max_features' : [None, 5, 10, 15], 'max_depth':[5, 10]}\n",
    "model = RandomForestRegressor()\n",
    "rfr = GridSearchCV(model, parameters, scoring = 'r2')\n",
    "rfr.fit(X_train, y_train)\n",
    "pred = rfr.predict(X_test)\n",
    "\n",
    "print('Best parameters: ', rfr.best_params_)"
   ]
  },
  {
   "cell_type": "markdown",
   "id": "2894f21f",
   "metadata": {},
   "source": [
    "Построим модель на основе гиперпараметров:"
   ]
  },
  {
   "cell_type": "code",
   "execution_count": 396,
   "id": "ee958262",
   "metadata": {},
   "outputs": [
    {
     "name": "stdout",
     "output_type": "stream",
     "text": [
      "R2 0.5473952953085681\n",
      "MAE 34.00157815914862\n",
      "RMSE 47.94613463102616\n"
     ]
    }
   ],
   "source": [
    "from sklearn.ensemble import RandomForestRegressor\n",
    "rfr = RandomForestRegressor(max_depth=10, n_estimators = 500, random_state = 0)\n",
    "rfr.fit(X_train, y_train)\n",
    "preds_rfr = rfr.predict(X_test)\n",
    "print('R2', r2_score(y_test, preds_rfr))\n",
    "print('MAE', mean_absolute_error(y_test, preds_rfr))\n",
    "print('RMSE', rmse(y_test, preds_rfr))"
   ]
  },
  {
   "cell_type": "markdown",
   "id": "44663031",
   "metadata": {},
   "source": [
    "Мы получили наилучший результат. Посмотрим на важность каждого признака."
   ]
  },
  {
   "cell_type": "code",
   "execution_count": 397,
   "id": "e4e627e4",
   "metadata": {},
   "outputs": [
    {
     "data": {
      "image/png": "[encoded data removed]",
      "text/plain": [
       "<Figure size 432x288 with 1 Axes>"
      ]
     },
     "metadata": {
      "needs_background": "light"
     },
     "output_type": "display_data"
    }
   ],
   "source": [
    "feature_importances = zip(X_train.columns, rfr.feature_importances_)\n",
    "feature_importances = sorted(feature_importances, key=lambda x: x[1])\n",
    "feature_importances = pd.DataFrame(feature_importances, columns=['feature', 'importance'])\n",
    "\n",
    "plt.title('Feature importances for Random Forest')\n",
    "sns.barplot(x='importance', y='feature', data=feature_importances)\n",
    "plt.show()"
   ]
  },
  {
   "cell_type": "code",
   "execution_count": null,
   "id": "4dcf3db5",
   "metadata": {},
   "outputs": [],
   "source": []
  }
 ],
 "metadata": {
  "kernelspec": {
   "display_name": "Python 3",
   "language": "python",
   "name": "python3"
  },
  "language_info": {
   "codemirror_mode": {
    "name": "ipython",
    "version": 3
   },
   "file_extension": ".py",
   "mimetype": "text/x-python",
   "name": "python",
   "nbconvert_exporter": "python",
   "pygments_lexer": "ipython3",
   "version": "3.9.5"
  }
 },
 "nbformat": 4,
 "nbformat_minor": 5
}
